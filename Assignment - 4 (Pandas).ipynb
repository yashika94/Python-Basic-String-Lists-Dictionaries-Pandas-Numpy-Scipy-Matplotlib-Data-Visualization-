{
 "cells": [
  {
   "cell_type": "markdown",
   "metadata": {},
   "source": [
    "# Assignment - 4 (Pandas)\n"
   ]
  },
  {
   "cell_type": "markdown",
   "metadata": {},
   "source": [
    "# AIM - In this tutorial, we will learn the various features of Python Pandas and how to use them in practice."
   ]
  },
  {
   "cell_type": "markdown",
   "metadata": {},
   "source": [
    "# Pandas\n",
    "\n",
    "Pandas is an open-source, BSD-licensed Python library providing high-performance, easy-to-use data structures and data analysis tools for the Python programming language. Python with Pandas is used in a wide range of fields including academic and commercial domains including finance, economics, Statistics, analytics, Key features of pandas are: Group by data for aggregation and transformations. High performance merging and joining of data.Time Series functionality.Data alignment and integrated handling of missing data. Reshaping and pivoting of date sets."
   ]
  },
  {
   "cell_type": "markdown",
   "metadata": {},
   "source": [
    "# pandas.Series \n",
    "Series is a one-dimensional labeled array capable of holding data of any type (integer, string, float, python objects, etc.). The axis labels are collectively called index. A pandas Series can be created using the following constructor −\n",
    "\n",
    "pandas.Series( data, index, dtype, copy)"
   ]
  },
  {
   "cell_type": "code",
   "execution_count": 647,
   "metadata": {},
   "outputs": [
    {
     "name": "stdout",
     "output_type": "stream",
     "text": [
      "Series([], dtype: float64)\n"
     ]
    }
   ],
   "source": [
    "#Various methods to create series.\n",
    "#Let us first import the panda library and create a basic series for now.\n",
    "\n",
    "import pandas as pd\n",
    "a = pd.Series()\n",
    "print(a)"
   ]
  },
  {
   "cell_type": "code",
   "execution_count": 648,
   "metadata": {},
   "outputs": [
    {
     "name": "stdout",
     "output_type": "stream",
     "text": [
      "0    NJ\n",
      "1    TX\n",
      "2    NY\n",
      "3    LA\n",
      "dtype: object\n"
     ]
    }
   ],
   "source": [
    "#Let us create a series from array using np.array() and pd.Series().\n",
    "\n",
    "import pandas as pd\n",
    "import numpy as np\n",
    "states = np.array(['NJ','TX','NY','LA'])\n",
    "a = pd.Series(states)\n",
    "print(a)"
   ]
  },
  {
   "cell_type": "code",
   "execution_count": 649,
   "metadata": {},
   "outputs": [
    {
     "name": "stdout",
     "output_type": "stream",
     "text": [
      "0    NJ\n",
      "1    TX\n",
      "2    NY\n",
      "3    LA\n",
      "dtype: object\n"
     ]
    }
   ],
   "source": [
    "#Let us create a series from dict\n",
    "\n",
    "states = {'0' :'NJ', '1' : 'TX', '2' : 'NY', '3':'LA'}\n",
    "a = pd.Series(states)\n",
    "print(a)"
   ]
  },
  {
   "cell_type": "code",
   "execution_count": 650,
   "metadata": {},
   "outputs": [
    {
     "name": "stdout",
     "output_type": "stream",
     "text": [
      "0    4\n",
      "1    4\n",
      "2    4\n",
      "3    4\n",
      "dtype: int64\n"
     ]
    }
   ],
   "source": [
    "#Let us create a series from scalar values.\n",
    "\n",
    "a = pd.Series(4, index=[0, 1, 2, 3])\n",
    "print(a)"
   ]
  },
  {
   "cell_type": "code",
   "execution_count": 651,
   "metadata": {},
   "outputs": [
    {
     "name": "stdout",
     "output_type": "stream",
     "text": [
      "Element based on index LA\n",
      "\n",
      "First two elements\n",
      " 0    NJ\n",
      "1    TX\n",
      "dtype: object\n",
      "\n",
      "Last two elements\n",
      " 2    NY\n",
      "3    LA\n",
      "dtype: object\n"
     ]
    }
   ],
   "source": [
    "#Let us now start accessing and retreiving data from series.\n",
    "\n",
    "states = {'0' :'NJ', '1' : 'TX', '2' : 'NY', '3':'LA'}\n",
    "a = pd.Series(states)\n",
    "print(\"Element based on index\",a[3])        #this will give us the fourth element from the series.\n",
    "print(\"\\nFirst two elements\\n\",a[:2])      #this will give us first two elements from the series.    \n",
    "print(\"\\nLast two elements\\n\",a[-2:])     #this will give us last two elements from the series."
   ]
  },
  {
   "cell_type": "code",
   "execution_count": 652,
   "metadata": {},
   "outputs": [
    {
     "name": "stdout",
     "output_type": "stream",
     "text": [
      "a    NJ\n",
      "d    LA\n",
      "dtype: object\n"
     ]
    }
   ],
   "source": [
    "s = pd.Series(['NJ','TX','NY','LA'],index = ['a','b','c','d'])\n",
    "print (s[['a','d']])        #this will give us first and last element"
   ]
  },
  {
   "cell_type": "markdown",
   "metadata": {},
   "source": [
    "# pandas.DataFrame\n",
    "A Data frame is a two-dimensional data structure, i.e., data is aligned in a tabular fashion in rows and columns.\n",
    "\n",
    "Features of DataFrame\n",
    "Potentially columns are of different types\n",
    "Size – Mutable\n",
    "Labeled axes (rows and columns)\n",
    "Can Perform Arithmetic operations on rows and columns\n",
    "A pandas DataFrame can be created using the following constructor −\n",
    "\n",
    "pandas.DataFrame( data, index, columns, dtype, copy)"
   ]
  },
  {
   "cell_type": "code",
   "execution_count": 653,
   "metadata": {},
   "outputs": [
    {
     "name": "stdout",
     "output_type": "stream",
     "text": [
      "Empty DataFrame\n",
      "Columns: []\n",
      "Index: []\n"
     ]
    }
   ],
   "source": [
    "#Various methods to create dataframes.\n",
    "#Let us first import the panda library and create a basic series for now.\n",
    "\n",
    "import pandas as pd\n",
    "a = pd.DataFrame()\n",
    "print(a)"
   ]
  },
  {
   "cell_type": "code",
   "execution_count": 654,
   "metadata": {},
   "outputs": [
    {
     "name": "stdout",
     "output_type": "stream",
     "text": [
      "    0\n",
      "0  NJ\n",
      "1  TX\n",
      "2  NY\n",
      "3  LA\n"
     ]
    }
   ],
   "source": [
    "#Let us create dataframe from Lists.\n",
    "\n",
    "states = ['NJ','TX','NY','LA']\n",
    "a = pd.DataFrame(states)\n",
    "print(a)"
   ]
  },
  {
   "cell_type": "code",
   "execution_count": 655,
   "metadata": {},
   "outputs": [
    {
     "name": "stdout",
     "output_type": "stream",
     "text": [
      "       States Abbrevation\n",
      "0  New Jersey          NJ\n",
      "1       Texas          TX\n",
      "2    New York          NY\n",
      "3   Louisiana          LA\n"
     ]
    }
   ],
   "source": [
    "#Let us create a dataframe having one column as name of state and one column as abbrevation of their names.\n",
    "\n",
    "states = [['New Jersey','NJ'],['Texas','TX'],['New York','NY'],['Louisiana','LA']]\n",
    "a= pd.DataFrame(states, columns=['States','Abbrevation'])\n",
    "print(a)"
   ]
  },
  {
   "cell_type": "code",
   "execution_count": 656,
   "metadata": {},
   "outputs": [
    {
     "name": "stdout",
     "output_type": "stream",
     "text": [
      "  Abbrevation      States\n",
      "0          NJ  New Jersey\n",
      "1          TX       Texas\n",
      "2          NY    New York\n",
      "3          LA   Louisiana\n"
     ]
    }
   ],
   "source": [
    "#Let us now create dataframes from dicts.\n",
    "\n",
    "states = [{'Abbrevation': 'NJ','States': 'New Jersey' },{'Abbrevation': 'TX','States': 'Texas' }\n",
    "        ,{ 'Abbrevation': 'NY','States': 'New York'},{'Abbrevation': 'LA','States': 'Louisiana'}]\n",
    "a = pd.DataFrame(states)\n",
    "print(a)"
   ]
  },
  {
   "cell_type": "code",
   "execution_count": 657,
   "metadata": {},
   "outputs": [
    {
     "name": "stdout",
     "output_type": "stream",
     "text": [
      "          Louisiana  ...    Texas\n",
      "State NO         40  ...       30\n",
      "\n",
      "[1 rows x 4 columns]\n",
      "           a   c\n",
      "State NO NaN NaN\n"
     ]
    }
   ],
   "source": [
    "states = [{'New Jersey': 10, 'New York': 20,'Texas':30, 'Louisiana':40}]\n",
    "\n",
    "#With two column indices, values same as dictionary keys\n",
    "a = pd.DataFrame(states, index=['State NO'])\n",
    "\n",
    "#With two column indices with one index with other name\n",
    "b = pd.DataFrame(states, index=['State NO'], columns=['a', 'c'])\n",
    "print (a)   \n",
    "print (b)  #this will print NaN which is not a number."
   ]
  },
  {
   "cell_type": "code",
   "execution_count": 658,
   "metadata": {},
   "outputs": [
    {
     "name": "stdout",
     "output_type": "stream",
     "text": [
      "       States Abbrevation\n",
      "0  New Jersey          NJ\n",
      "1       Texas          TX\n",
      "2    New York          NY\n",
      "3   Louisiana          LA\n"
     ]
    }
   ],
   "source": [
    "#Let us now manipulate columns and rows in the table. \n",
    "\n",
    "states = [['New Jersey','NJ'],['Texas','TX'],['New York','NY'],['Louisiana','LA']]\n",
    "a= pd.DataFrame(states, columns=['States','Abbrevation'])\n",
    "print(a)\n",
    "   "
   ]
  },
  {
   "cell_type": "code",
   "execution_count": 659,
   "metadata": {},
   "outputs": [
    {
     "name": "stdout",
     "output_type": "stream",
     "text": [
      "0    New Jersey\n",
      "1         Texas\n",
      "2      New York\n",
      "3     Louisiana\n",
      "Name: States, dtype: object\n"
     ]
    }
   ],
   "source": [
    "#Let us access column a from the table.\n",
    "\n",
    "print (a['States'])  #this will give us the elements of column a from above table.\n",
    "               #It will also give you the type of data in the column and column name."
   ]
  },
  {
   "cell_type": "code",
   "execution_count": 660,
   "metadata": {},
   "outputs": [
    {
     "name": "stdout",
     "output_type": "stream",
     "text": [
      "Add a new column from Series:\n",
      "       States   ...    State No\n",
      "0  New Jersey   ...          10\n",
      "1       Texas   ...          20\n",
      "2    New York   ...          30\n",
      "3   Louisiana   ...          40\n",
      "\n",
      "[4 rows x 3 columns]\n"
     ]
    }
   ],
   "source": [
    "#Now let us add new columns.\n",
    "\n",
    "print (\"Add a new column from Series:\")\n",
    "a['State No']=pd.Series([10,20,30,40],index=[0,1,2,3])\n",
    "print(a)"
   ]
  },
  {
   "cell_type": "code",
   "execution_count": 661,
   "metadata": {},
   "outputs": [
    {
     "name": "stdout",
     "output_type": "stream",
     "text": [
      "Add a new column from Series:\n",
      "  Abbrevation  State No\n",
      "0          NJ        10\n",
      "1          TX        20\n",
      "2          NY        30\n",
      "3          LA        40\n"
     ]
    }
   ],
   "source": [
    "#Let us now delete columns.\n",
    "\n",
    "print (\"Add a new column from Series:\")\n",
    "a['State No']=pd.Series([10,20,30,40],index=[0,1,2,3])\n",
    "\n",
    "del a['States']\n",
    "print(a)      #this will delete states column\n",
    "\n",
    "\n"
   ]
  },
  {
   "cell_type": "code",
   "execution_count": 662,
   "metadata": {},
   "outputs": [
    {
     "name": "stdout",
     "output_type": "stream",
     "text": [
      "Deleting another column using POP function:\n",
      "  Abbrevation\n",
      "0          NJ\n",
      "1          TX\n",
      "2          NY\n",
      "3          LA\n"
     ]
    }
   ],
   "source": [
    "print (\"Deleting another column using POP function:\")\n",
    "a.pop('State No')\n",
    "print(a)"
   ]
  },
  {
   "cell_type": "code",
   "execution_count": 663,
   "metadata": {},
   "outputs": [
    {
     "name": "stdout",
     "output_type": "stream",
     "text": [
      "       States Abbrevation\n",
      "0  New Jersey          NJ\n",
      "1       Texas          TX\n",
      "2    New York          NY\n",
      "3   Louisiana          LA\n",
      "\n",
      "\n",
      " States         Texas\n",
      "Abbrevation       TX\n",
      "Name: 1, dtype: object\n"
     ]
    }
   ],
   "source": [
    "#Let us now access row from the table.\n",
    "states = [['New Jersey','NJ'],['Texas','TX'],['New York','NY'],['Louisiana','LA']]\n",
    "a= pd.DataFrame(states, columns=['States','Abbrevation'])\n",
    "print(a)\n",
    "a = pd.DataFrame(a)   #This will access the row with location number 1\n",
    "print ('\\n\\n',a.iloc[1])"
   ]
  },
  {
   "cell_type": "code",
   "execution_count": 664,
   "metadata": {},
   "outputs": [
    {
     "name": "stdout",
     "output_type": "stream",
     "text": [
      "     States Abbrevation\n",
      "1     Texas          TX\n",
      "2  New York          NY\n"
     ]
    }
   ],
   "source": [
    "#Let us now slice the table and desired rows. We use \":\" operator.\n",
    "\n",
    "a = pd.DataFrame(a)\n",
    "print(a[1:3])"
   ]
  },
  {
   "cell_type": "code",
   "execution_count": 665,
   "metadata": {},
   "outputs": [
    {
     "name": "stdout",
     "output_type": "stream",
     "text": [
      "        States Abbrevation\n",
      "0   New Jersey          NJ\n",
      "1        Texas          TX\n",
      "2     New York          NY\n",
      "..         ...         ...\n",
      "1     Kentucky          KY\n",
      "2      Indiana          IN\n",
      "3     Maryland          MD\n",
      "\n",
      "[8 rows x 2 columns]\n"
     ]
    }
   ],
   "source": [
    "#Let us now add new rows in the table.\n",
    "df2 = pd.DataFrame([['Florida','FL'],['Kentucky','KY'],['Indiana','IN'],['Maryland','MD']],columns =['States','Abbrevation'])\n",
    "\n",
    "\n",
    "a=a.append(df2)   #This will add new rows in the table.\n",
    "print(a) "
   ]
  },
  {
   "cell_type": "code",
   "execution_count": 666,
   "metadata": {},
   "outputs": [
    {
     "name": "stdout",
     "output_type": "stream",
     "text": [
      "      States Abbrevation\n",
      "1      Texas          TX\n",
      "2   New York          NY\n",
      "3  Louisiana          LA\n",
      "1   Kentucky          KY\n",
      "2    Indiana          IN\n",
      "3   Maryland          MD\n"
     ]
    }
   ],
   "source": [
    "#Let us now delete a row from the table.\n",
    "a = a.drop(0)  #this will delete rows with label 0 from the table.\n",
    "\n",
    "print(a)"
   ]
  },
  {
   "cell_type": "markdown",
   "metadata": {},
   "source": [
    "# pandas.Panel()\n",
    "A Panel can be created using the following constructor −\n",
    "\n",
    "pandas.Panel(data, items, major_axis, minor_axis, dtype, copy)"
   ]
  },
  {
   "cell_type": "code",
   "execution_count": 667,
   "metadata": {},
   "outputs": [
    {
     "name": "stdout",
     "output_type": "stream",
     "text": [
      "<class 'pandas.core.panel.Panel'>\n",
      "Dimensions: 4 (items) x 5 (major_axis) x 6 (minor_axis)\n",
      "Items axis: 0 to 3\n",
      "Major_axis axis: 0 to 4\n",
      "Minor_axis axis: 0 to 5\n"
     ]
    },
    {
     "name": "stderr",
     "output_type": "stream",
     "text": [
      "C:\\ProgramData\\Anaconda3\\lib\\site-packages\\IPython\\core\\interactiveshell.py:2963: FutureWarning: \n",
      "Panel is deprecated and will be removed in a future version.\n",
      "The recommended way to represent these types of 3-dimensional data are with a MultiIndex on a DataFrame, via the Panel.to_frame() method\n",
      "Alternatively, you can use the xarray package http://xarray.pydata.org/en/stable/.\n",
      "Pandas provides a `.to_xarray()` method to help automate this conversion.\n",
      "\n",
      "  exec(code_obj, self.user_global_ns, self.user_ns)\n"
     ]
    }
   ],
   "source": [
    "#Let us create a empty panel.\n",
    "\n",
    "import pandas as pd\n",
    "import numpy as np\n",
    "\n",
    "d = np.random.rand(4,5,6)\n",
    "a = pd.Panel(d)\n",
    "print(a)"
   ]
  },
  {
   "cell_type": "code",
   "execution_count": 668,
   "metadata": {},
   "outputs": [
    {
     "name": "stdout",
     "output_type": "stream",
     "text": [
      "<class 'pandas.core.panel.Panel'>\n",
      "Dimensions: 0 (items) x 0 (major_axis) x 0 (minor_axis)\n",
      "Items axis: None\n",
      "Major_axis axis: None\n",
      "Minor_axis axis: None\n"
     ]
    },
    {
     "name": "stderr",
     "output_type": "stream",
     "text": [
      "C:\\ProgramData\\Anaconda3\\lib\\site-packages\\IPython\\core\\interactiveshell.py:2963: FutureWarning: \n",
      "Panel is deprecated and will be removed in a future version.\n",
      "The recommended way to represent these types of 3-dimensional data are with a MultiIndex on a DataFrame, via the Panel.to_frame() method\n",
      "Alternatively, you can use the xarray package http://xarray.pydata.org/en/stable/.\n",
      "Pandas provides a `.to_xarray()` method to help automate this conversion.\n",
      "\n",
      "  exec(code_obj, self.user_global_ns, self.user_ns)\n"
     ]
    }
   ],
   "source": [
    "#creating an empty panel using panel constructor.\n",
    "import pandas as pd\n",
    "a = pd.Panel()\n",
    "print(a)"
   ]
  },
  {
   "cell_type": "code",
   "execution_count": 669,
   "metadata": {},
   "outputs": [
    {
     "name": "stdout",
     "output_type": "stream",
     "text": [
      "          0    ...            7\n",
      "0  1.388604    ...    -0.545410\n",
      "1 -1.343383    ...     0.336225\n",
      "2  0.121399    ...     0.105129\n",
      "3  1.050951    ...    -1.168233\n",
      "4  0.612724    ...     0.114660\n",
      "\n",
      "[5 rows x 8 columns]\n"
     ]
    },
    {
     "name": "stderr",
     "output_type": "stream",
     "text": [
      "C:\\ProgramData\\Anaconda3\\lib\\site-packages\\IPython\\core\\interactiveshell.py:2963: FutureWarning: \n",
      "Panel is deprecated and will be removed in a future version.\n",
      "The recommended way to represent these types of 3-dimensional data are with a MultiIndex on a DataFrame, via the Panel.to_frame() method\n",
      "Alternatively, you can use the xarray package http://xarray.pydata.org/en/stable/.\n",
      "Pandas provides a `.to_xarray()` method to help automate this conversion.\n",
      "\n",
      "  exec(code_obj, self.user_global_ns, self.user_ns)\n"
     ]
    }
   ],
   "source": [
    "#Let us access data from the panel using items.\n",
    "\n",
    "import pandas as pd\n",
    "import numpy as np\n",
    "d = {'x' : pd.DataFrame(np.random.randn(5, 8)), \n",
    "        'y' : pd.DataFrame(np.random.randn(5,6 ))}\n",
    "a = pd.Panel(d)\n",
    "print(a['x'])"
   ]
  },
  {
   "cell_type": "code",
   "execution_count": 670,
   "metadata": {},
   "outputs": [
    {
     "name": "stderr",
     "output_type": "stream",
     "text": [
      "C:\\ProgramData\\Anaconda3\\lib\\site-packages\\IPython\\core\\interactiveshell.py:2963: FutureWarning: \n",
      "Panel is deprecated and will be removed in a future version.\n",
      "The recommended way to represent these types of 3-dimensional data are with a MultiIndex on a DataFrame, via the Panel.to_frame() method\n",
      "Alternatively, you can use the xarray package http://xarray.pydata.org/en/stable/.\n",
      "Pandas provides a `.to_xarray()` method to help automate this conversion.\n",
      "\n",
      "  exec(code_obj, self.user_global_ns, self.user_ns)\n"
     ]
    }
   ],
   "source": [
    "#Let us access data from the panel using major axis.\n",
    "\n",
    "d = {'X' : pd.DataFrame(np.random.randn(4, 3)), \n",
    "        'Y' : pd.DataFrame(np.random.randn(4, 2))}\n",
    "a = pd.Panel(d)\n",
    "#Let us access data from the panel using major axis.print (a.major_xs(1))"
   ]
  },
  {
   "cell_type": "code",
   "execution_count": 671,
   "metadata": {},
   "outputs": [
    {
     "name": "stdout",
     "output_type": "stream",
     "text": [
      "          X         Y\n",
      "0  0.532165 -1.713186\n",
      "1  0.266531  0.258755\n",
      "2 -1.258136  0.989454\n",
      "3  1.799876  1.722582\n"
     ]
    },
    {
     "name": "stderr",
     "output_type": "stream",
     "text": [
      "C:\\ProgramData\\Anaconda3\\lib\\site-packages\\IPython\\core\\interactiveshell.py:2963: FutureWarning: \n",
      "Panel is deprecated and will be removed in a future version.\n",
      "The recommended way to represent these types of 3-dimensional data are with a MultiIndex on a DataFrame, via the Panel.to_frame() method\n",
      "Alternatively, you can use the xarray package http://xarray.pydata.org/en/stable/.\n",
      "Pandas provides a `.to_xarray()` method to help automate this conversion.\n",
      "\n",
      "  exec(code_obj, self.user_global_ns, self.user_ns)\n"
     ]
    }
   ],
   "source": [
    "#Let us access data from the panel using minor axis.\n",
    "\n",
    "d = {'X' : pd.DataFrame(np.random.randn(4, 3)), \n",
    "        'Y' : pd.DataFrame(np.random.randn(4, 2))}\n",
    "a = pd.Panel(d)\n",
    "print( a.minor_xs(1))"
   ]
  },
  {
   "cell_type": "markdown",
   "metadata": {},
   "source": [
    "# Basic Operations"
   ]
  },
  {
   "cell_type": "code",
   "execution_count": 672,
   "metadata": {},
   "outputs": [
    {
     "name": "stdout",
     "output_type": "stream",
     "text": [
      "       States Abbrevation\n",
      "0  New Jersey          NJ\n",
      "1       Texas          TX\n",
      "2    New York          NY\n",
      "3   Louisiana          LA\n",
      "\n",
      "Axes\n",
      "[RangeIndex(start=0, stop=4, step=1), Index(['States', 'Abbrevation'], dtype='object')]\n"
     ]
    }
   ],
   "source": [
    "#Let us first use basic functionality on dataframes.\n",
    "\n",
    "states = [['New Jersey','NJ'],['Texas','TX'],['New York','NY'],['Louisiana','LA']]\n",
    "a= pd.DataFrame(states, columns=['States','Abbrevation'])\n",
    "print(a)\n",
    "print('\\nAxes')\n",
    "print(a.axes)  #This will give you the list of the labels of the dataframe."
   ]
  },
  {
   "cell_type": "code",
   "execution_count": 673,
   "metadata": {},
   "outputs": [
    {
     "name": "stdout",
     "output_type": "stream",
     "text": [
      "False\n"
     ]
    }
   ],
   "source": [
    "#Let us check whether the dataframe is empty or not.\n",
    "print(a.empty)    #It will return boolean value. True or False."
   ]
  },
  {
   "cell_type": "code",
   "execution_count": 674,
   "metadata": {},
   "outputs": [
    {
     "name": "stdout",
     "output_type": "stream",
     "text": [
      "This give you number of dimensions: 2\n"
     ]
    }
   ],
   "source": [
    " #Gives you dimensions of the dataframe\n",
    "\n",
    "print('This give you number of dimensions:',a.ndim)   "
   ]
  },
  {
   "cell_type": "code",
   "execution_count": 675,
   "metadata": {},
   "outputs": [
    {
     "name": "stdout",
     "output_type": "stream",
     "text": [
      "This will give you size of object: 8\n"
     ]
    }
   ],
   "source": [
    "#Gives you the size of the dataframe.\n",
    "\n",
    "print('This will give you size of object:',a.size)     "
   ]
  },
  {
   "cell_type": "code",
   "execution_count": 676,
   "metadata": {},
   "outputs": [
    {
     "name": "stdout",
     "output_type": "stream",
     "text": [
      "Actual elements : [['New Jersey' 'NJ']\n",
      " ['Texas' 'TX']\n",
      " ['New York' 'NY']\n",
      " ['Louisiana' 'LA']]\n"
     ]
    }
   ],
   "source": [
    "#Gives you the actual values inside the dataframe.\n",
    "\n",
    "print ('Actual elements :',a.values)                  "
   ]
  },
  {
   "cell_type": "code",
   "execution_count": 677,
   "metadata": {},
   "outputs": [
    {
     "name": "stdout",
     "output_type": "stream",
     "text": [
      "       States Abbrevation\n",
      "0  New Jersey          NJ\n",
      "1       Texas          TX\n"
     ]
    }
   ],
   "source": [
    "#Gives you the first n rows mentioned in the head() function.\n",
    "\n",
    "print(a.head(2))"
   ]
  },
  {
   "cell_type": "code",
   "execution_count": 678,
   "metadata": {},
   "outputs": [
    {
     "name": "stdout",
     "output_type": "stream",
     "text": [
      "      States Abbrevation\n",
      "2   New York          NY\n",
      "3  Louisiana          LA\n"
     ]
    }
   ],
   "source": [
    "#Gives you the last n rows mentioned in the tail() function.\n",
    "\n",
    "print(a.tail(2))"
   ]
  },
  {
   "cell_type": "code",
   "execution_count": 679,
   "metadata": {},
   "outputs": [
    {
     "name": "stdout",
     "output_type": "stream",
     "text": [
      "                      0    ...              3\n",
      "States       New Jersey    ...      Louisiana\n",
      "Abbrevation          NJ    ...             LA\n",
      "\n",
      "[2 rows x 4 columns]\n"
     ]
    }
   ],
   "source": [
    "#Gives you the transpose of the dataframe.\n",
    "\n",
    "print (a.T)"
   ]
  },
  {
   "cell_type": "code",
   "execution_count": 680,
   "metadata": {},
   "outputs": [
    {
     "name": "stdout",
     "output_type": "stream",
     "text": [
      "States         object\n",
      "Abbrevation    object\n",
      "dtype: object\n"
     ]
    }
   ],
   "source": [
    "#Gives you the data type of rows and columns in the dataframe.\n",
    "\n",
    "print (a.dtypes)"
   ]
  },
  {
   "cell_type": "code",
   "execution_count": 681,
   "metadata": {},
   "outputs": [
    {
     "name": "stdout",
     "output_type": "stream",
     "text": [
      "Shape  (4, 2)\n"
     ]
    }
   ],
   "source": [
    "#Gives you the shape of the dataframe.\n",
    "\n",
    "print('Shape ',a.shape)"
   ]
  },
  {
   "cell_type": "code",
   "execution_count": 682,
   "metadata": {},
   "outputs": [
    {
     "name": "stdout",
     "output_type": "stream",
     "text": [
      "0    NJ\n",
      "1    TX\n",
      "2    NY\n",
      "3    LA\n",
      "dtype: object\n"
     ]
    }
   ],
   "source": [
    "#Let us use basic functionality on series.\n",
    "\n",
    "states = {'0' :'NJ', '1' : 'TX', '2' : 'NY', '3':'LA'}\n",
    "a = pd.Series(states)\n",
    "print(a)"
   ]
  },
  {
   "cell_type": "code",
   "execution_count": 683,
   "metadata": {},
   "outputs": [
    {
     "name": "stdout",
     "output_type": "stream",
     "text": [
      "[Index(['0', '1', '2', '3'], dtype='object')]\n",
      "False\n",
      "1\n",
      "4\n",
      "['NJ' 'TX' 'NY' 'LA']\n",
      "0    NJ\n",
      "1    TX\n",
      "dtype: object\n",
      "2    NY\n",
      "3    LA\n",
      "dtype: object\n"
     ]
    }
   ],
   "source": [
    "#We use simliar functions for series as we use for dataframes.\n",
    "\n",
    "print(a.axes)\n",
    "print(a.empty)\n",
    "print(a.ndim)\n",
    "print(a.size)\n",
    "print(a.values)\n",
    "print(a.head(2))\n",
    "print(a.tail(2))"
   ]
  },
  {
   "cell_type": "markdown",
   "metadata": {},
   "source": [
    "# Statistics\n"
   ]
  },
  {
   "cell_type": "code",
   "execution_count": 684,
   "metadata": {},
   "outputs": [
    {
     "name": "stdout",
     "output_type": "stream",
     "text": [
      "     Name  Marks\n",
      "0      Al      5\n",
      "1    John      3\n",
      "2     Tom      7\n",
      "3  Maggie      9\n",
      "4    Lisa      6\n",
      "5    Alex      1\n"
     ]
    }
   ],
   "source": [
    "#Let us first create a series of marks for 6 students and convert inbto dataframe.\n",
    "\n",
    "test = { 'Name':pd.Series(['Al','John','Tom','Maggie','Lisa','Alex'])\n",
    ",'Marks':pd.Series([5,3,7,9,6,1])}\n",
    "x=pd.DataFrame(test)\n",
    "print(x)"
   ]
  },
  {
   "cell_type": "code",
   "execution_count": 685,
   "metadata": {},
   "outputs": [
    {
     "name": "stdout",
     "output_type": "stream",
     "text": [
      "Name     AlJohnTomMaggieLisaAlex\n",
      "Marks                         31\n",
      "dtype: object\n"
     ]
    }
   ],
   "source": [
    "#Let us find the sum of marks of all the 6 students.\n",
    "print(x.sum())"
   ]
  },
  {
   "cell_type": "code",
   "execution_count": 686,
   "metadata": {},
   "outputs": [
    {
     "name": "stdout",
     "output_type": "stream",
     "text": [
      "Marks    5.166667\n",
      "dtype: float64\n"
     ]
    }
   ],
   "source": [
    "#Let us find the mean of the marks of 6 students\n",
    "\n",
    "print(x.mean())"
   ]
  },
  {
   "cell_type": "code",
   "execution_count": 687,
   "metadata": {},
   "outputs": [
    {
     "name": "stdout",
     "output_type": "stream",
     "text": [
      "Marks    2.857738\n",
      "dtype: float64\n"
     ]
    }
   ],
   "source": [
    "#Let us find the standard deviation of the marks of 6 students.\n",
    "\n",
    "print(x.std())"
   ]
  },
  {
   "cell_type": "code",
   "execution_count": 688,
   "metadata": {},
   "outputs": [
    {
     "name": "stdout",
     "output_type": "stream",
     "text": [
      "Name     Al\n",
      "Marks     1\n",
      "dtype: object\n"
     ]
    }
   ],
   "source": [
    "#Let us find who got least marks from the 6 students.\n",
    "\n",
    "print(x.min())"
   ]
  },
  {
   "cell_type": "code",
   "execution_count": 689,
   "metadata": {},
   "outputs": [
    {
     "name": "stdout",
     "output_type": "stream",
     "text": [
      "Name     Tom\n",
      "Marks      9\n",
      "dtype: object\n"
     ]
    }
   ],
   "source": [
    "#Let us find who got most marks from the 6 students.\n",
    "\n",
    "print(x.max())"
   ]
  },
  {
   "cell_type": "code",
   "execution_count": 690,
   "metadata": {},
   "outputs": [
    {
     "name": "stdout",
     "output_type": "stream",
     "text": [
      "          Marks\n",
      "count  6.000000\n",
      "mean   5.166667\n",
      "std    2.857738\n",
      "...         ...\n",
      "50%    5.500000\n",
      "75%    6.750000\n",
      "max    9.000000\n",
      "\n",
      "[8 rows x 1 columns]\n"
     ]
    }
   ],
   "source": [
    "#Let us find summary of marks of the 6 students.\n",
    "\n",
    "print(x.describe())"
   ]
  },
  {
   "cell_type": "code",
   "execution_count": 693,
   "metadata": {},
   "outputs": [
    {
     "name": "stdout",
     "output_type": "stream",
     "text": [
      "   Marks1  Marks2\n",
      "0       7       5\n",
      "1       8       3\n",
      "2       3       7\n",
      "3       1       9\n",
      "4       8       6\n",
      "5       5       1\n"
     ]
    },
    {
     "data": {
      "text/html": [
       "<div>\n",
       "<style scoped>\n",
       "    .dataframe tbody tr th:only-of-type {\n",
       "        vertical-align: middle;\n",
       "    }\n",
       "\n",
       "    .dataframe tbody tr th {\n",
       "        vertical-align: top;\n",
       "    }\n",
       "\n",
       "    .dataframe thead th {\n",
       "        text-align: right;\n",
       "    }\n",
       "</style>\n",
       "<table border=\"1\" class=\"dataframe\">\n",
       "  <thead>\n",
       "    <tr style=\"text-align: right;\">\n",
       "      <th></th>\n",
       "      <th>Marks1</th>\n",
       "      <th>Marks2</th>\n",
       "    </tr>\n",
       "  </thead>\n",
       "  <tbody>\n",
       "    <tr>\n",
       "      <th>0</th>\n",
       "      <td>8</td>\n",
       "      <td>6</td>\n",
       "    </tr>\n",
       "    <tr>\n",
       "      <th>1</th>\n",
       "      <td>9</td>\n",
       "      <td>4</td>\n",
       "    </tr>\n",
       "    <tr>\n",
       "      <th>2</th>\n",
       "      <td>4</td>\n",
       "      <td>8</td>\n",
       "    </tr>\n",
       "    <tr>\n",
       "      <th>3</th>\n",
       "      <td>2</td>\n",
       "      <td>10</td>\n",
       "    </tr>\n",
       "    <tr>\n",
       "      <th>4</th>\n",
       "      <td>9</td>\n",
       "      <td>7</td>\n",
       "    </tr>\n",
       "    <tr>\n",
       "      <th>5</th>\n",
       "      <td>6</td>\n",
       "      <td>2</td>\n",
       "    </tr>\n",
       "  </tbody>\n",
       "</table>\n",
       "</div>"
      ],
      "text/plain": [
       "   Marks1  Marks2\n",
       "0       8       6\n",
       "1       9       4\n",
       "2       4       8\n",
       "3       2      10\n",
       "4       9       7\n",
       "5       6       2"
      ]
     },
     "execution_count": 693,
     "metadata": {},
     "output_type": "execute_result"
    }
   ],
   "source": [
    "#Table-wise function application. If we want to add a particular value to existing rows of table we use adder() function.\n",
    "#Suppose the teacher is giving 1 extra mark to every student then using adder() we can upade the marks column.\n",
    "\n",
    "def adder(m1,m2):\n",
    "  return m1+m2\n",
    "\n",
    "\n",
    "print(x)\n",
    "x.pipe(adder,1)\n"
   ]
  },
  {
   "cell_type": "code",
   "execution_count": 694,
   "metadata": {},
   "outputs": [
    {
     "name": "stdout",
     "output_type": "stream",
     "text": [
      "   Marks1  Marks2\n",
      "0       7       5\n",
      "1       8       3\n",
      "2       3       7\n",
      "3       1       9\n",
      "4       8       6\n",
      "5       5       1\n",
      "Marks1    8\n",
      "Marks2    9\n",
      "dtype: int64\n"
     ]
    }
   ],
   "source": [
    "#Using apply() function we can apply particular operation to the whole of the column.\n",
    "\n",
    "test = { 'Marks1':pd.Series([7,8,3,1,8,5])\n",
    ",'Marks2':pd.Series([5,3,7,9,6,1])}\n",
    "x=pd.DataFrame(test)\n",
    "print(x)\n",
    "x.apply(np.max)\n",
    "print(x.apply(np.max))"
   ]
  },
  {
   "cell_type": "markdown",
   "metadata": {},
   "source": [
    "# Working with text data"
   ]
  },
  {
   "cell_type": "code",
   "execution_count": 695,
   "metadata": {},
   "outputs": [
    {
     "name": "stdout",
     "output_type": "stream",
     "text": [
      "0    new jersey\n",
      "1            10\n",
      "2         texas\n",
      "3      new york\n",
      "4            45\n",
      "5     louisiana\n",
      "dtype: object\n"
     ]
    }
   ],
   "source": [
    "#Let us covert the string into lowercase.\n",
    "\n",
    "states = pd.Series(['New Jersey','10','Texas','New York','45','Louisiana'])\n",
    "print(states.str.lower())"
   ]
  },
  {
   "cell_type": "code",
   "execution_count": 696,
   "metadata": {},
   "outputs": [
    {
     "name": "stdout",
     "output_type": "stream",
     "text": [
      "0    NEW JERSEY\n",
      "1            10\n",
      "2         TEXAS\n",
      "3      NEW YORK\n",
      "4            45\n",
      "5     LOUISIANA\n",
      "dtype: object\n"
     ]
    }
   ],
   "source": [
    "#Let us covert the string into uppercase.\n",
    "\n",
    "print(states.str.upper())"
   ]
  },
  {
   "cell_type": "code",
   "execution_count": 697,
   "metadata": {},
   "outputs": [
    {
     "name": "stdout",
     "output_type": "stream",
     "text": [
      "0    10\n",
      "1     2\n",
      "2     5\n",
      "3     8\n",
      "4     2\n",
      "5     9\n",
      "dtype: int64\n"
     ]
    }
   ],
   "source": [
    "#Let us find the length of the string.\n",
    "\n",
    "print(states.str.len())"
   ]
  },
  {
   "cell_type": "code",
   "execution_count": 698,
   "metadata": {},
   "outputs": [
    {
     "name": "stdout",
     "output_type": "stream",
     "text": [
      "0    New Jersey\n",
      "1            10\n",
      "2         Texas\n",
      "3      New York\n",
      "4            45\n",
      "5     Louisiana\n",
      "dtype: object\n"
     ]
    }
   ],
   "source": [
    "#Let us strip whitespace from the string in the series.\n",
    "\n",
    "print (states.str.strip())"
   ]
  },
  {
   "cell_type": "code",
   "execution_count": 699,
   "metadata": {},
   "outputs": [
    {
     "name": "stdout",
     "output_type": "stream",
     "text": [
      "0    [, , , y]\n",
      "1         [10]\n",
      "2       [, as]\n",
      "3     [, , rk]\n",
      "4         [45]\n",
      "5     [, , , ]\n",
      "dtype: object\n"
     ]
    }
   ],
   "source": [
    "#Let us split each string with a pattern.\n",
    "\n",
    "print (states.str.split('...'))"
   ]
  },
  {
   "cell_type": "code",
   "execution_count": 700,
   "metadata": {},
   "outputs": [
    {
     "name": "stdout",
     "output_type": "stream",
     "text": [
      "   10  ...    Texas\n",
      "0   0  ...        0\n",
      "1   1  ...        0\n",
      "2   0  ...        1\n",
      "3   0  ...        0\n",
      "4   0  ...        0\n",
      "5   0  ...        0\n",
      "\n",
      "[6 rows x 6 columns]\n"
     ]
    }
   ],
   "source": [
    "#It will give you the dataframe with onehot encoded values.\n",
    "\n",
    "print (states.str.get_dummies())"
   ]
  },
  {
   "cell_type": "code",
   "execution_count": 701,
   "metadata": {},
   "outputs": [
    {
     "name": "stdout",
     "output_type": "stream",
     "text": [
      "0     True\n",
      "1    False\n",
      "2    False\n",
      "3     True\n",
      "4    False\n",
      "5    False\n",
      "dtype: bool\n"
     ]
    }
   ],
   "source": [
    "#Let us find if there is a space in the string.It will return a boolena value.\n",
    "\n",
    "print (states.str.contains(' '))"
   ]
  },
  {
   "cell_type": "code",
   "execution_count": 702,
   "metadata": {},
   "outputs": [
    {
     "name": "stdout",
     "output_type": "stream",
     "text": [
      "0    New Jer$ey\n",
      "1            10\n",
      "2         Texa$\n",
      "3      New York\n",
      "4            45\n",
      "5     Loui$iana\n",
      "dtype: object\n"
     ]
    }
   ],
   "source": [
    "#Let us replace a particular letter in the string with a char.\n",
    "\n",
    "print (states.str.replace('s','$'))"
   ]
  },
  {
   "cell_type": "code",
   "execution_count": 703,
   "metadata": {},
   "outputs": [
    {
     "name": "stdout",
     "output_type": "stream",
     "text": [
      "0    New JerseyNew Jersey\n",
      "1                    1010\n",
      "2              TexasTexas\n",
      "3        New YorkNew York\n",
      "4                    4545\n",
      "5      LouisianaLouisiana\n",
      "dtype: object\n"
     ]
    }
   ],
   "source": [
    "#Let us repeat the same string twice.\n",
    "\n",
    "print (states.str.repeat(2))"
   ]
  },
  {
   "cell_type": "code",
   "execution_count": 704,
   "metadata": {},
   "outputs": [
    {
     "name": "stdout",
     "output_type": "stream",
     "text": [
      "0    1\n",
      "1    0\n",
      "2    0\n",
      "3    1\n",
      "4    0\n",
      "5    0\n",
      "dtype: int64\n"
     ]
    }
   ],
   "source": [
    "#Let us count number of N's in the every element.\n",
    "\n",
    "print (states.str.count('N'))"
   ]
  },
  {
   "cell_type": "code",
   "execution_count": 705,
   "metadata": {},
   "outputs": [
    {
     "name": "stdout",
     "output_type": "stream",
     "text": [
      "0    False\n",
      "1    False\n",
      "2     True\n",
      "3    False\n",
      "4    False\n",
      "5    False\n",
      "dtype: bool\n"
     ]
    }
   ],
   "source": [
    "#Let us find which element in the list starts with 'T'\n",
    "\n",
    "print (states.str. startswith ('T'))"
   ]
  },
  {
   "cell_type": "code",
   "execution_count": 706,
   "metadata": {},
   "outputs": [
    {
     "name": "stdout",
     "output_type": "stream",
     "text": [
      "0    False\n",
      "1    False\n",
      "2     True\n",
      "3    False\n",
      "4    False\n",
      "5    False\n",
      "dtype: bool\n"
     ]
    }
   ],
   "source": [
    "#Let us find which element in the list ends with 's'\n",
    "\n",
    "print (states.str.endswith('s'))"
   ]
  },
  {
   "cell_type": "code",
   "execution_count": 707,
   "metadata": {},
   "outputs": [
    {
     "name": "stdout",
     "output_type": "stream",
     "text": [
      "0    nEW jERSEY\n",
      "1            10\n",
      "2         tEXAS\n",
      "3      nEW yORK\n",
      "4            45\n",
      "5     lOUISIANA\n",
      "dtype: object\n"
     ]
    }
   ],
   "source": [
    "#Let us swap cases of every element in the list.\n",
    "\n",
    "print (states.str.swapcase())"
   ]
  },
  {
   "cell_type": "code",
   "execution_count": 708,
   "metadata": {},
   "outputs": [
    {
     "name": "stdout",
     "output_type": "stream",
     "text": [
      "a    False\n",
      "b    False\n",
      "c    False\n",
      "d    False\n",
      "dtype: bool\n"
     ]
    }
   ],
   "source": [
    "#Let us find if all charachters in element are in lower case. It return a boolean value. \n",
    "\n",
    "print (s.str.islower())"
   ]
  },
  {
   "cell_type": "code",
   "execution_count": 709,
   "metadata": {},
   "outputs": [
    {
     "name": "stdout",
     "output_type": "stream",
     "text": [
      "0    False\n",
      "1    False\n",
      "2    False\n",
      "3    False\n",
      "4    False\n",
      "5    False\n",
      "dtype: bool\n"
     ]
    }
   ],
   "source": [
    "#Let us find if all charachters in element are in upper case. It return a boolean value.\n",
    "\n",
    "print (states.str.isupper())"
   ]
  },
  {
   "cell_type": "code",
   "execution_count": 710,
   "metadata": {},
   "outputs": [
    {
     "name": "stdout",
     "output_type": "stream",
     "text": [
      "0    False\n",
      "1     True\n",
      "2    False\n",
      "3    False\n",
      "4     True\n",
      "5    False\n",
      "dtype: bool\n"
     ]
    }
   ],
   "source": [
    "#Let us find if all charachters in element have numerics. It return a boolean value.\n",
    "\n",
    "print (states.str.isnumeric())"
   ]
  },
  {
   "cell_type": "markdown",
   "metadata": {},
   "source": [
    "# Options and Customization\n",
    "Pandas provide API to customize some aspects of its behavior, display is being mostly used.\n",
    "\n",
    "The API is composed of five relevant functions. They are −\n",
    "\n",
    "get_option()\n",
    "set_option()\n",
    "reset_option()\n",
    "describe_option()\n",
    "option_context()"
   ]
  },
  {
   "cell_type": "code",
   "execution_count": 711,
   "metadata": {},
   "outputs": [
    {
     "name": "stdout",
     "output_type": "stream",
     "text": [
      "6\n"
     ]
    }
   ],
   "source": [
    "#This will give the default number of value for rows\n",
    "print (pd.get_option(\"display.max_rows\"))"
   ]
  },
  {
   "cell_type": "code",
   "execution_count": 712,
   "metadata": {},
   "outputs": [
    {
     "name": "stdout",
     "output_type": "stream",
     "text": [
      "2\n"
     ]
    }
   ],
   "source": [
    "#Displays the default number of value for column.\n",
    "print (pd.get_option(\"display.max_columns\"))"
   ]
  },
  {
   "cell_type": "code",
   "execution_count": 713,
   "metadata": {},
   "outputs": [
    {
     "name": "stdout",
     "output_type": "stream",
     "text": [
      "6\n"
     ]
    }
   ],
   "source": [
    "#It will set the value of the row and return the value of the row.\n",
    "\n",
    "pd.set_option(\"display.max_rows\",6)\n",
    "\n",
    "print(pd.get_option(\"display.max_rows\"))"
   ]
  },
  {
   "cell_type": "code",
   "execution_count": 714,
   "metadata": {},
   "outputs": [
    {
     "name": "stdout",
     "output_type": "stream",
     "text": [
      "2\n"
     ]
    }
   ],
   "source": [
    "#It will set the value of the column and return the value of the column.\n",
    "\n",
    "pd.set_option(\"display.max_columns\",2)\n",
    "\n",
    "print(pd.get_option(\"display.max_columns\"))"
   ]
  },
  {
   "cell_type": "code",
   "execution_count": 715,
   "metadata": {},
   "outputs": [
    {
     "name": "stdout",
     "output_type": "stream",
     "text": [
      "display.max_rows : int\n",
      "    If max_rows is exceeded, switch to truncate view. Depending on\n",
      "    `large_repr`, objects are either centrally truncated or printed as\n",
      "    a summary view. 'None' value means unlimited.\n",
      "\n",
      "    In case python/IPython is running in a terminal and `large_repr`\n",
      "    equals 'truncate' this can be set to 0 and pandas will auto-detect\n",
      "    the height of the terminal and print a truncated object which fits\n",
      "    the screen height. The IPython notebook, IPython qtconsole, or\n",
      "    IDLE do not run in a terminal and hence it is not possible to do\n",
      "    correct auto-detection.\n",
      "    [default: 60] [currently: 6]\n",
      "\n",
      "\n"
     ]
    }
   ],
   "source": [
    "#It will describe the value of column and row.\n",
    "\n",
    "pd.describe_option(\"display.max_rows\")"
   ]
  },
  {
   "cell_type": "code",
   "execution_count": 716,
   "metadata": {},
   "outputs": [
    {
     "name": "stdout",
     "output_type": "stream",
     "text": [
      "90\n",
      "90\n"
     ]
    }
   ],
   "source": [
    "#It will set the value temporarily.\n",
    "\n",
    "import pandas as pd\n",
    "with pd.option_context(\"display.max_rows\",90):\n",
    "   print(pd.get_option(\"display.max_rows\"))\n",
    "   print(pd.get_option(\"display.max_rows\"))"
   ]
  },
  {
   "cell_type": "markdown",
   "metadata": {},
   "source": [
    "# Statistical Functions\n",
    "\n",
    "Statistical methods help in the understanding and analyzing the behavior of data."
   ]
  },
  {
   "cell_type": "code",
   "execution_count": 717,
   "metadata": {},
   "outputs": [
    {
     "name": "stdout",
     "output_type": "stream",
     "text": [
      "0         NaN\n",
      "1    1.000000\n",
      "2    0.500000\n",
      "3    0.333333\n",
      "4    0.250000\n",
      "dtype: float64\n"
     ]
    }
   ],
   "source": [
    "#Let us find the percentage change between the elements in the series.\n",
    "\n",
    "x = pd.Series([10,20,30,40,50])\n",
    "print (x.pct_change())"
   ]
  },
  {
   "cell_type": "code",
   "execution_count": 718,
   "metadata": {},
   "outputs": [
    {
     "name": "stdout",
     "output_type": "stream",
     "text": [
      "Covariance = 250.0\n"
     ]
    }
   ],
   "source": [
    "#Let us find the covariance between the two elements of two series.\n",
    "\n",
    "x = pd.Series([10,20,30,40,50])\n",
    "y = pd.Series([60,70,80,90,100])\n",
    "print('Covariance =',x.cov(y))"
   ]
  },
  {
   "cell_type": "code",
   "execution_count": 719,
   "metadata": {},
   "outputs": [
    {
     "name": "stdout",
     "output_type": "stream",
     "text": [
      "Correlation = 1.0\n"
     ]
    }
   ],
   "source": [
    "#Let us find the correlation between the two elements of two series.\n",
    "\n",
    "x = pd.Series([10,20,30,40,50])\n",
    "y = pd.Series([60,70,80,90,100])\n",
    "print('Correlation =',x.corr(y))"
   ]
  },
  {
   "cell_type": "code",
   "execution_count": 720,
   "metadata": {},
   "outputs": [
    {
     "name": "stdout",
     "output_type": "stream",
     "text": [
      "0    1.0\n",
      "1    2.0\n",
      "2    3.0\n",
      "3    4.0\n",
      "4    5.0\n",
      "dtype: float64\n",
      "0    1.0\n",
      "1    2.0\n",
      "2    3.0\n",
      "3    4.0\n",
      "4    5.0\n",
      "dtype: float64\n"
     ]
    }
   ],
   "source": [
    "#Let us find the rank of series x and series y.\n",
    "\n",
    "print(x.rank())\n",
    "print(y.rank())"
   ]
  },
  {
   "cell_type": "markdown",
   "metadata": {},
   "source": [
    "# Sorting"
   ]
  },
  {
   "cell_type": "code",
   "execution_count": 721,
   "metadata": {},
   "outputs": [
    {
     "name": "stdout",
     "output_type": "stream",
     "text": [
      "        State  ...   year\n",
      "0  New Jersey  ...   2000\n",
      "1    New York  ...   1999\n",
      "2     Florida  ...   1998\n",
      "3  California  ...   1997\n",
      "\n",
      "[4 rows x 3 columns]\n"
     ]
    }
   ],
   "source": [
    "#Let us first create a dataframe to show examples of sorting.\n",
    "import pandas as pd\n",
    "import numpy as np\n",
    "census = {'State':pd.Series(['New Jersey','New York','Florida','California']),\n",
    "          'Population':pd.Series ([100000,200000,150000,175000]) ,\n",
    "          'year':pd.Series([2000,1999,1998,1997])} \n",
    "x=pd.DataFrame(census)\n",
    "print(x)"
   ]
  },
  {
   "cell_type": "code",
   "execution_count": 722,
   "metadata": {},
   "outputs": [
    {
     "name": "stdout",
     "output_type": "stream",
     "text": [
      "        State  ...   year\n",
      "0  New Jersey  ...   2000\n",
      "1    New York  ...   1999\n",
      "2     Florida  ...   1998\n",
      "3  California  ...   1997\n",
      "\n",
      "[4 rows x 3 columns]\n"
     ]
    }
   ],
   "source": [
    "#Let us sort the columns of dataframe using index number.\n",
    "sorted_x=x.sort_index()\n",
    "print(sorted_x)"
   ]
  },
  {
   "cell_type": "code",
   "execution_count": 723,
   "metadata": {},
   "outputs": [
    {
     "name": "stdout",
     "output_type": "stream",
     "text": [
      "        State  ...   year\n",
      "3  California  ...   1997\n",
      "2     Florida  ...   1998\n",
      "1    New York  ...   1999\n",
      "0  New Jersey  ...   2000\n",
      "\n",
      "[4 rows x 3 columns]\n"
     ]
    }
   ],
   "source": [
    "#Let us sort the dataframe in descending order, we can set the value of ascending as True or False\n",
    "\n",
    "sorted_x=x.sort_index(ascending=False)\n",
    "print(sorted_x)"
   ]
  },
  {
   "cell_type": "code",
   "execution_count": 724,
   "metadata": {},
   "outputs": [
    {
     "name": "stdout",
     "output_type": "stream",
     "text": [
      "   Population  ...   year\n",
      "0      100000  ...   2000\n",
      "1      200000  ...   1999\n",
      "2      150000  ...   1998\n",
      "3      175000  ...   1997\n",
      "\n",
      "[4 rows x 3 columns]\n"
     ]
    }
   ],
   "source": [
    "#Let us sort the columns in dataframe by using the column labels.\n",
    "\n",
    "sorted_x=x.sort_index(axis=1)\n",
    "print(sorted_x)"
   ]
  },
  {
   "cell_type": "code",
   "execution_count": 725,
   "metadata": {},
   "outputs": [
    {
     "name": "stdout",
     "output_type": "stream",
     "text": [
      "        State  ...   year\n",
      "3  California  ...   1997\n",
      "2     Florida  ...   1998\n",
      "1    New York  ...   1999\n",
      "0  New Jersey  ...   2000\n",
      "\n",
      "[4 rows x 3 columns]\n"
     ]
    }
   ],
   "source": [
    "#Let us sort the columns of the dataframe by using the value of the column.\n",
    "\n",
    "sorted_x=x.sort_values(by='year')\n",
    "print(sorted_x)"
   ]
  },
  {
   "cell_type": "code",
   "execution_count": 726,
   "metadata": {},
   "outputs": [
    {
     "name": "stdout",
     "output_type": "stream",
     "text": [
      "        State  ...   year\n",
      "3  California  ...   1997\n",
      "2     Florida  ...   1998\n",
      "1    New York  ...   1999\n",
      "0  New Jersey  ...   2000\n",
      "\n",
      "[4 rows x 3 columns]\n"
     ]
    }
   ],
   "source": [
    "#We can also use sorting algorithms to sort the dataframe.\n",
    "#We have sorted the dataframe using quicksort technique in following example.\n",
    "\n",
    "sorted_x=x.sort_values(by='year',kind='quicksort')\n",
    "print(sorted_x)"
   ]
  },
  {
   "cell_type": "markdown",
   "metadata": {},
   "source": [
    "# Iteration\n",
    "Basic iteration (for i in object) produces −\n",
    "\n",
    "Series − values\n",
    "\n",
    "DataFrame − column labels\n",
    "\n",
    "Panel − item labels"
   ]
  },
  {
   "cell_type": "code",
   "execution_count": 727,
   "metadata": {},
   "outputs": [
    {
     "name": "stdout",
     "output_type": "stream",
     "text": [
      "        State  ...   year\n",
      "0  New Jersey  ...   2000\n",
      "1    New York  ...   1999\n",
      "2     Florida  ...   1998\n",
      "3  California  ...   1997\n",
      "\n",
      "[4 rows x 3 columns]\n"
     ]
    }
   ],
   "source": [
    "import pandas as pd\n",
    "import numpy as np\n",
    "census = {'State':pd.Series(['New Jersey','New York','Florida','California']),\n",
    "          'Population':pd.Series ([100000,200000,150000,175000]) ,\n",
    "          'year':pd.Series([2000,1999,1998,1997])} \n",
    "x=pd.DataFrame(census)\n",
    "print(x)"
   ]
  },
  {
   "cell_type": "code",
   "execution_count": 728,
   "metadata": {},
   "outputs": [
    {
     "name": "stdout",
     "output_type": "stream",
     "text": [
      "State\n",
      "Population\n",
      "year\n"
     ]
    }
   ],
   "source": [
    "#Let us find the column names by iterating a dataframe.\n",
    "\n",
    "for col in x:\n",
    " print(col)"
   ]
  },
  {
   "cell_type": "code",
   "execution_count": 729,
   "metadata": {},
   "outputs": [
    {
     "name": "stdout",
     "output_type": "stream",
     "text": [
      "State 0    New Jersey\n",
      "1      New York\n",
      "2       Florida\n",
      "3    California\n",
      "Name: State, dtype: object\n",
      "Population 0    100000\n",
      "1    200000\n",
      "2    150000\n",
      "3    175000\n",
      "Name: Population, dtype: int64\n",
      "year 0    2000\n",
      "1    1999\n",
      "2    1998\n",
      "3    1997\n",
      "Name: year, dtype: int64\n"
     ]
    }
   ],
   "source": [
    "#Let us iterate over rows in dataframe.\n",
    "#It terates over each column as key, value pair with label as key and column value as a Series object.\n",
    "\n",
    "for key,value in x.iteritems():\n",
    "   print (key,value)"
   ]
  },
  {
   "cell_type": "code",
   "execution_count": 730,
   "metadata": {},
   "outputs": [
    {
     "name": "stdout",
     "output_type": "stream",
     "text": [
      "0 State         New Jersey\n",
      "Population        100000\n",
      "year                2000\n",
      "Name: 0, dtype: object\n",
      "1 State         New York\n",
      "Population      200000\n",
      "year              1999\n",
      "Name: 1, dtype: object\n",
      "2 State         Florida\n",
      "Population     150000\n",
      "year             1998\n",
      "Name: 2, dtype: object\n",
      "3 State         California\n",
      "Population        175000\n",
      "year                1997\n",
      "Name: 3, dtype: object\n"
     ]
    }
   ],
   "source": [
    "#iterrows() returns the iterator yielding each index value along with a series containing the data in each row.\n",
    "\n",
    "for row_index,row in x.iterrows():\n",
    "   print (row_index,row)"
   ]
  },
  {
   "cell_type": "code",
   "execution_count": 731,
   "metadata": {},
   "outputs": [
    {
     "name": "stdout",
     "output_type": "stream",
     "text": [
      "Pandas(Index=0, State='New Jersey', Population=100000, year=2000)\n",
      "Pandas(Index=1, State='New York', Population=200000, year=1999)\n",
      "Pandas(Index=2, State='Florida', Population=150000, year=1998)\n",
      "Pandas(Index=3, State='California', Population=175000, year=1997)\n"
     ]
    }
   ],
   "source": [
    "#itertuples() method will return an iterator yielding a named tuple for each row in the DataFrame.\n",
    "#The first element of the tuple will be the row’s corresponding index value, while the remaining values are the row values.\n",
    "\n",
    "for row in x.itertuples():\n",
    "    print (row)"
   ]
  },
  {
   "cell_type": "markdown",
   "metadata": {},
   "source": [
    "# GroupBy\n",
    "Any groupby operation involves one of the following operations on the original object. They are −\n",
    "\n",
    "Splitting the Object\n",
    "\n",
    "Applying a function\n",
    "\n",
    "Combining the results"
   ]
  },
  {
   "cell_type": "code",
   "execution_count": 732,
   "metadata": {},
   "outputs": [
    {
     "name": "stdout",
     "output_type": "stream",
     "text": [
      "        State  ...   year\n",
      "0  New Jersey  ...   2000\n",
      "1    New York  ...   1999\n",
      "2     Florida  ...   1998\n",
      "3  California  ...   1997\n",
      "\n",
      "[4 rows x 3 columns]\n"
     ]
    }
   ],
   "source": [
    "#Let us create a dataframe first.\n",
    "\n",
    "import pandas as pd\n",
    "import numpy as np\n",
    "census = {'State':pd.Series(['New Jersey','New York','Florida','California']),\n",
    "          'Population':pd.Series ([100000,200000,150000,175000]) ,\n",
    "          'year':pd.Series([2000,1999,1998,1997])} \n",
    "x=pd.DataFrame(census)\n",
    "print(x)"
   ]
  },
  {
   "cell_type": "code",
   "execution_count": 733,
   "metadata": {},
   "outputs": [
    {
     "name": "stdout",
     "output_type": "stream",
     "text": [
      "{100000: Int64Index([0], dtype='int64'), 150000: Int64Index([2], dtype='int64'), 175000: Int64Index([3], dtype='int64'), 200000: Int64Index([1], dtype='int64')}\n"
     ]
    }
   ],
   "source": [
    "#Let us access the states column using GroupBy function.\n",
    "\n",
    "print (x.groupby('Population').groups)"
   ]
  },
  {
   "cell_type": "code",
   "execution_count": 734,
   "metadata": {},
   "outputs": [
    {
     "name": "stdout",
     "output_type": "stream",
     "text": [
      "{(100000, 2000): Int64Index([0], dtype='int64'), (150000, 1998): Int64Index([2], dtype='int64'), (175000, 1997): Int64Index([3], dtype='int64'), (200000, 1999): Int64Index([1], dtype='int64')}\n"
     ]
    }
   ],
   "source": [
    "#Let us group by using multiple column names.\n",
    "\n",
    "print (x.groupby(['Population','year']).groups)"
   ]
  },
  {
   "cell_type": "code",
   "execution_count": 735,
   "metadata": {},
   "outputs": [
    {
     "name": "stdout",
     "output_type": "stream",
     "text": [
      "1997\n",
      "        State  ...   year\n",
      "3  California  ...   1997\n",
      "\n",
      "[1 rows x 3 columns]\n",
      "1998\n",
      "     State  ...   year\n",
      "2  Florida  ...   1998\n",
      "\n",
      "[1 rows x 3 columns]\n",
      "1999\n",
      "      State  ...   year\n",
      "1  New York  ...   1999\n",
      "\n",
      "[1 rows x 3 columns]\n",
      "2000\n",
      "        State  ...   year\n",
      "0  New Jersey  ...   2000\n",
      "\n",
      "[1 rows x 3 columns]\n"
     ]
    }
   ],
   "source": [
    "#Let us use groupby() to iterate through the table.\n",
    "\n",
    "grouped = x.groupby('year')\n",
    "\n",
    "for name,group in grouped:\n",
    "    print (name)\n",
    "    print (group)"
   ]
  },
  {
   "cell_type": "code",
   "execution_count": 736,
   "metadata": {},
   "outputs": [
    {
     "name": "stdout",
     "output_type": "stream",
     "text": [
      "        State  ...   year\n",
      "0  New Jersey  ...   2000\n",
      "\n",
      "[1 rows x 3 columns]\n"
     ]
    }
   ],
   "source": [
    "#We can also use get_group() to specify particular value which is to be accessed.\n",
    "\n",
    "grouped = x.groupby('year')\n",
    "print (grouped.get_group(2000))"
   ]
  },
  {
   "cell_type": "markdown",
   "metadata": {},
   "source": [
    "# Merging\n",
    "\n",
    "Pandas has full-featured, high performance in-memory join operations idiomatically very similar to relational databases like SQL.\n",
    "\n",
    "Pandas provides a single function, merge, as the entry point for all standard database join operations between DataFrame object"
   ]
  },
  {
   "cell_type": "code",
   "execution_count": 796,
   "metadata": {},
   "outputs": [
    {
     "name": "stdout",
     "output_type": "stream",
     "text": [
      "   Marks  ...   Name\n",
      "0      7  ...    Sam\n",
      "1      8  ...    Max\n",
      "\n",
      "[2 rows x 3 columns]\n",
      "   Marks  ...   Name\n",
      "0      5  ...    Sam\n",
      "1      3  ...    Max\n",
      "\n",
      "[2 rows x 3 columns]\n"
     ]
    }
   ],
   "source": [
    "#Let us first create two different dataframes to do merging operations on them.\n",
    "\n",
    "left = pd.DataFrame({ 'Marks':[7,8],'id':[1,2],'Name':['Sam','Max']})\n",
    "\n",
    "right = pd.DataFrame({'Marks':[5,3],'id':[1,2], 'Name':['Sam','Max']})\n",
    "\n",
    "print (left)\n",
    "print (right)"
   ]
  },
  {
   "cell_type": "code",
   "execution_count": 797,
   "metadata": {},
   "outputs": [
    {
     "name": "stdout",
     "output_type": "stream",
     "text": [
      "   Marks_x   ...    Name_y\n",
      "0        7   ...       Sam\n",
      "1        8   ...       Max\n",
      "\n",
      "[2 rows x 5 columns]\n"
     ]
    }
   ],
   "source": [
    "#Let us merge the dataframes using keys.\n",
    "\n",
    "print (pd.merge(left,right,on='id'))"
   ]
  },
  {
   "cell_type": "code",
   "execution_count": 798,
   "metadata": {},
   "outputs": [
    {
     "name": "stdout",
     "output_type": "stream",
     "text": [
      "   Marks_x   ...    Name_y\n",
      "0        7   ...       Sam\n",
      "1        8   ...       Max\n",
      "\n",
      "[2 rows x 5 columns]\n"
     ]
    }
   ],
   "source": [
    "#Let us merge the dataframes using leftouter join. \n",
    "\n",
    "print (pd.merge(left, right, on='id', how='left'))"
   ]
  },
  {
   "cell_type": "code",
   "execution_count": 799,
   "metadata": {},
   "outputs": [
    {
     "name": "stdout",
     "output_type": "stream",
     "text": [
      "   Marks_x   ...    Name_y\n",
      "0        7   ...       Sam\n",
      "1        8   ...       Max\n",
      "\n",
      "[2 rows x 5 columns]\n"
     ]
    }
   ],
   "source": [
    "#Let us merge the dataframes using rightouter join.\n",
    "\n",
    "print (pd.merge(left, right, on='id', how='right'))"
   ]
  },
  {
   "cell_type": "code",
   "execution_count": 800,
   "metadata": {},
   "outputs": [
    {
     "name": "stdout",
     "output_type": "stream",
     "text": [
      "   Marks_x   ...    Name_y\n",
      "0        7   ...       Sam\n",
      "1        8   ...       Max\n",
      "\n",
      "[2 rows x 5 columns]\n"
     ]
    }
   ],
   "source": [
    "#Let us merge the dataframes using fullouter join.\n",
    "\n",
    "print (pd.merge(left, right, on='id', how='outer'))"
   ]
  },
  {
   "cell_type": "code",
   "execution_count": 801,
   "metadata": {},
   "outputs": [
    {
     "name": "stdout",
     "output_type": "stream",
     "text": [
      "   Marks_x   ...    Name_y\n",
      "0        7   ...       Sam\n",
      "1        8   ...       Max\n",
      "\n",
      "[2 rows x 5 columns]\n"
     ]
    }
   ],
   "source": [
    "##Let us merge the dataframes using inner join.\n",
    "\n",
    "print (pd.merge(left, right, on='id', how='inner'))"
   ]
  },
  {
   "cell_type": "markdown",
   "metadata": {},
   "source": [
    "# Date Functionality\n",
    "\n",
    "Extending the Time series, Date functionalities play major role in financial data analysis. While working with Date data, we will frequently come across the following −\n",
    "\n",
    "Generating sequence of dates\n",
    "Convert the date series to different frequencies"
   ]
  },
  {
   "cell_type": "code",
   "execution_count": 737,
   "metadata": {},
   "outputs": [
    {
     "name": "stdout",
     "output_type": "stream",
     "text": [
      "DatetimeIndex(['2018-01-05', '2018-01-06', '2018-01-07', '2018-01-08',\n",
      "               '2018-01-09', '2018-01-10', '2018-01-11', '2018-01-12',\n",
      "               '2018-01-13', '2018-01-14'],\n",
      "              dtype='datetime64[ns]', freq='D')\n"
     ]
    }
   ],
   "source": [
    "#Let us create the date series. We have to mention the frequency and period.  \n",
    "\n",
    "import pandas as pd\n",
    "print (pd.date_range('1/5/2018', periods=10))"
   ]
  },
  {
   "cell_type": "code",
   "execution_count": 738,
   "metadata": {},
   "outputs": [
    {
     "name": "stdout",
     "output_type": "stream",
     "text": [
      "DatetimeIndex(['2018-01-31', '2018-02-28', '2018-03-31', '2018-04-30',\n",
      "               '2018-05-31', '2018-06-30', '2018-07-31', '2018-08-31',\n",
      "               '2018-09-30', '2018-10-31'],\n",
      "              dtype='datetime64[ns]', freq='M')\n"
     ]
    }
   ],
   "source": [
    "#Let us now change the frequency of the date range.\n",
    "\n",
    "import pandas as pd\n",
    "print (pd.date_range('1/5/2018', periods=10,freq='M'))"
   ]
  },
  {
   "cell_type": "code",
   "execution_count": 739,
   "metadata": {},
   "outputs": [
    {
     "name": "stdout",
     "output_type": "stream",
     "text": [
      "DatetimeIndex(['2018-01-07', '2018-01-14', '2018-01-21', '2018-01-28',\n",
      "               '2018-02-04', '2018-02-11', '2018-02-18', '2018-02-25',\n",
      "               '2018-03-04', '2018-03-11'],\n",
      "              dtype='datetime64[ns]', freq='W-SUN')\n"
     ]
    }
   ],
   "source": [
    "#Let us create the date series for buisness date range. Thsi will exclude saturday and sunday.\n",
    "#We have to mention the frequency and period.\n",
    "\n",
    "import pandas as pd\n",
    "print (pd.date_range('1/5/2018', periods=10, freq='W'))"
   ]
  },
  {
   "cell_type": "markdown",
   "metadata": {},
   "source": [
    "# Visualization"
   ]
  },
  {
   "cell_type": "code",
   "execution_count": 740,
   "metadata": {},
   "outputs": [
    {
     "data": {
      "text/plain": [
       "<matplotlib.axes._subplots.AxesSubplot at 0x1f85568b518>"
      ]
     },
     "execution_count": 740,
     "metadata": {},
     "output_type": "execute_result"
    },
    {
     "data": {
      "image/png": "[encoded data removed]",
      "text/plain": [
       "<Figure size 432x288 with 1 Axes>"
      ]
     },
     "metadata": {},
     "output_type": "display_data"
    }
   ],
   "source": [
    "#This functionality on Series and DataFrame is just a simple wrapper around the matplotlib libraries plot() method.\n",
    "\n",
    "import matplotlib\n",
    "x = pd.DataFrame(np.random.randn(9,4), columns=list('1234'))\n",
    "\n",
    "x.plot()"
   ]
  },
  {
   "cell_type": "code",
   "execution_count": 741,
   "metadata": {},
   "outputs": [
    {
     "data": {
      "text/plain": [
       "<matplotlib.axes._subplots.AxesSubplot at 0x1f85561e240>"
      ]
     },
     "execution_count": 741,
     "metadata": {},
     "output_type": "execute_result"
    },
    {
     "data": {
      "image/png": "[encoded data removed]",
      "text/plain": [
       "<Figure size 432x288 with 1 Axes>"
      ]
     },
     "metadata": {},
     "output_type": "display_data"
    }
   ],
   "source": [
    "#To creat a bar plot we use plot.bar().\n",
    "\n",
    "x = pd.DataFrame(np.random.rand(10,4),columns=['a','b','c','d'])\n",
    "x.plot.bar()"
   ]
  },
  {
   "cell_type": "code",
   "execution_count": 742,
   "metadata": {},
   "outputs": [
    {
     "data": {
      "text/plain": [
       "<matplotlib.axes._subplots.AxesSubplot at 0x1f8557a3668>"
      ]
     },
     "execution_count": 742,
     "metadata": {},
     "output_type": "execute_result"
    },
    {
     "data": {
      "image/png": "[encoded data removed]",
      "text/plain": [
       "<Figure size 432x288 with 1 Axes>"
      ]
     },
     "metadata": {},
     "output_type": "display_data"
    }
   ],
   "source": [
    "#To create a stacked bar plot set stacked as True.\n",
    "\n",
    "x = pd.DataFrame(np.random.rand(10,4),columns=['a','b','c','d'])\n",
    "x.plot.bar(stacked=True)"
   ]
  },
  {
   "cell_type": "code",
   "execution_count": 743,
   "metadata": {},
   "outputs": [
    {
     "data": {
      "text/plain": [
       "<matplotlib.axes._subplots.AxesSubplot at 0x1f856811748>"
      ]
     },
     "execution_count": 743,
     "metadata": {},
     "output_type": "execute_result"
    },
    {
     "data": {
      "image/png": "[encoded data removed]",
      "text/plain": [
       "<Figure size 432x288 with 1 Axes>"
      ]
     },
     "metadata": {},
     "output_type": "display_data"
    }
   ],
   "source": [
    "#To create a horizontal bar plot use plot.barh().\n",
    "\n",
    "x = pd.DataFrame(np.random.rand(10,4),columns=['a','b','c','d'])\n",
    "x.plot.barh(stacked=True)"
   ]
  },
  {
   "cell_type": "code",
   "execution_count": 744,
   "metadata": {},
   "outputs": [
    {
     "data": {
      "text/plain": [
       "<matplotlib.axes._subplots.AxesSubplot at 0x1f8568e7b00>"
      ]
     },
     "execution_count": 744,
     "metadata": {},
     "output_type": "execute_result"
    },
    {
     "data": {
      "image/png": "[encoded data removed]",
      "text/plain": [
       "<Figure size 432x288 with 1 Axes>"
      ]
     },
     "metadata": {},
     "output_type": "display_data"
    }
   ],
   "source": [
    "#To create a box plots use plot.box().\n",
    "\n",
    "x = pd.DataFrame(np.random.rand(10,4),columns=['a','b','c','d'])\n",
    "x.plot.box()"
   ]
  },
  {
   "cell_type": "code",
   "execution_count": 745,
   "metadata": {},
   "outputs": [
    {
     "data": {
      "text/plain": [
       "<matplotlib.axes._subplots.AxesSubplot at 0x1f8569762e8>"
      ]
     },
     "execution_count": 745,
     "metadata": {},
     "output_type": "execute_result"
    },
    {
     "data": {
      "image/png": "[encoded data removed]",
      "text/plain": [
       "<Figure size 432x288 with 1 Axes>"
      ]
     },
     "metadata": {},
     "output_type": "display_data"
    }
   ],
   "source": [
    "#To get area plots, use the plot.area().\n",
    "\n",
    "x = pd.DataFrame(np.random.rand(10,4),columns=['a','b','c','d'])\n",
    "x.plot.area()"
   ]
  },
  {
   "cell_type": "code",
   "execution_count": 746,
   "metadata": {},
   "outputs": [
    {
     "data": {
      "text/plain": [
       "<matplotlib.axes._subplots.AxesSubplot at 0x1f8569d3ac8>"
      ]
     },
     "execution_count": 746,
     "metadata": {},
     "output_type": "execute_result"
    },
    {
     "data": {
      "image/png": "[encoded data removed]",
      "text/plain": [
       "<Figure size 432x288 with 1 Axes>"
      ]
     },
     "metadata": {},
     "output_type": "display_data"
    }
   ],
   "source": [
    "#To get a scattered plot use plot.scatter().\n",
    "\n",
    "x = pd.DataFrame(np.random.rand(10, 4), columns=['a', 'b', 'c', 'd'])\n",
    "x.plot.scatter(x='a', y='b')"
   ]
  },
  {
   "cell_type": "code",
   "execution_count": 597,
   "metadata": {},
   "outputs": [
    {
     "data": {
      "text/plain": [
       "array([<matplotlib.axes._subplots.AxesSubplot object at 0x000001F8555BF358>],\n",
       "      dtype=object)"
      ]
     },
     "execution_count": 597,
     "metadata": {},
     "output_type": "execute_result"
    },
    {
     "data": {
      "image/png": "[encoded data removed]",
      "text/plain": [
       "<Figure size 432x288 with 1 Axes>"
      ]
     },
     "metadata": {},
     "output_type": "display_data"
    }
   ],
   "source": [
    "#To create pie chart use plot.pie()\n",
    "\n",
    "df = pd.DataFrame(4 * np.random.rand(4), index=['Mumbai', 'Hyderabad', 'Pune', 'Banglore'], columns=['Population'])\n",
    "df.plot.pie(subplots=True)"
   ]
  },
  {
   "cell_type": "markdown",
   "metadata": {},
   "source": [
    "# Refrences\n",
    "\n",
    "https://www.tutorialspoint.com/python_pandas/python_pandas_merging_joining.html\n",
    "\n",
    "https://www.learnpython.org/en/Pandas_Basics\n",
    "\n",
    "https://www.dataquest.io/blog/pandas-python-tutorial/\n"
   ]
  },
  {
   "cell_type": "code",
   "execution_count": null,
   "metadata": {},
   "outputs": [],
   "source": []
  }
 ],
 "metadata": {
  "kernelspec": {
   "display_name": "Python 3",
   "language": "python",
   "name": "python3"
  },
  "language_info": {
   "codemirror_mode": {
    "name": "ipython",
    "version": 3
   },
   "file_extension": ".py",
   "mimetype": "text/x-python",
   "name": "python",
   "nbconvert_exporter": "python",
   "pygments_lexer": "ipython3",
   "version": "3.6.5"
  }
 },
 "nbformat": 4,
 "nbformat_minor": 2
}
