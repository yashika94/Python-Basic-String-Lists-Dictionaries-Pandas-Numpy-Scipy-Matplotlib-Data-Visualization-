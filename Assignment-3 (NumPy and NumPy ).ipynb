{
 "cells": [
  {
   "cell_type": "markdown",
   "metadata": {},
   "source": [
    "# Assignment-3 (NumPy and SciPy)"
   ]
  },
  {
   "cell_type": "markdown",
   "metadata": {},
   "source": [
    "Scope - In this assignment we will cover the basics of NumPy and SciPy usign various inbuild packages and simple examples. "
   ]
  },
  {
   "cell_type": "markdown",
   "metadata": {},
   "source": [
    "# NumPy\n",
    "NumPy is the fundamental package for scientific computing with Python. It contains among other things:\n",
    "\n",
    "-A powerful N-dimensional array object\n",
    "-Sophisticated (broadcasting) functions\n",
    "-Tools for integrating C/C++ and Fortran code\n",
    "-Useful linear algebra, Fourier transform, and random number capabilities\n",
    "Numpy is the core library for scientific computing in Python. It provides a high-performance multidimensional array object, and tools for working with these arrays."
   ]
  },
  {
   "cell_type": "markdown",
   "metadata": {},
   "source": [
    "# Arrays\n",
    "A numpy array is a grid of values, all of the same type, and is indexed by a tuple of nonnegative integers. The number of dimensions is the rank of the array; the shape of an array is a tuple of integers giving the size of the array along each dimension."
   ]
  },
  {
   "cell_type": "code",
   "execution_count": 229,
   "metadata": {},
   "outputs": [],
   "source": [
    "#Let us first import the numpy package before we use it. We will rename numpy as np.\n",
    "\n",
    "import numpy as np"
   ]
  },
  {
   "cell_type": "markdown",
   "metadata": {},
   "source": [
    "# Basic Attributes"
   ]
  },
  {
   "cell_type": "code",
   "execution_count": 230,
   "metadata": {},
   "outputs": [
    {
     "name": "stdout",
     "output_type": "stream",
     "text": [
      "1\n",
      "(6,)\n",
      "6\n",
      "int32\n",
      "4\n",
      "<memory at 0x00000205F5298F48>\n"
     ]
    }
   ],
   "source": [
    "#Following are some of the important attributes in numpy.\n",
    "\n",
    "#Let us find the number of axes (dimensions) of the array. It is given by \"nparray.ndim\".\n",
    "print(g.ndim)\n",
    "\n",
    "#Let us find the dimensions of the array.For a matrix with n rows and m columns, shape will be (n,m). \n",
    "#The length of the shape tuple is therefore the number of axes, \"ndim\".\n",
    "print(g.shape)\n",
    "\n",
    "#let us find the total number of elements of the array. We use \"nparray.size\".\n",
    "print(g.size)\n",
    "\n",
    "#Let us find the type of the element. We use \"nparray.dtype\".\n",
    "print(g.dtype)\n",
    "\n",
    "#Let us find the size in bytes of each element of the array. For that we use \"nparray.itemsize\".\n",
    "print(g.itemsize)\n",
    "\n",
    "#Let us find the buffer containing the actual elements of the array. Basically gives the memory location using \"nparray.data\"\n",
    "print(g.data)"
   ]
  },
  {
   "cell_type": "code",
   "execution_count": 231,
   "metadata": {},
   "outputs": [
    {
     "name": "stdout",
     "output_type": "stream",
     "text": [
      "[8 3 4 7 9 6]\n"
     ]
    }
   ],
   "source": [
    "#Let us create a list of grades for 6 students.\n",
    "\n",
    "grades= [8,3,4,7,9,6]\n",
    "#Let us now convert the list into a one-deimentional array. We use np.array() to create an array.\n",
    "g= np.array(grades)\n",
    "print(g)"
   ]
  },
  {
   "cell_type": "code",
   "execution_count": 232,
   "metadata": {},
   "outputs": [
    {
     "name": "stdout",
     "output_type": "stream",
     "text": [
      "37\n",
      "6\n",
      "6.166666666666667\n"
     ]
    }
   ],
   "source": [
    "#Let us find the average of the grades of all the students.It is very easy to achieve with a numpy array \n",
    "#using simple scalar multipilcation\n",
    "\n",
    "s=sum(g)\n",
    "print(s)\n",
    "l=len(g)\n",
    "print(l)\n",
    "avg = s/l \n",
    "print(avg)"
   ]
  },
  {
   "cell_type": "code",
   "execution_count": 233,
   "metadata": {},
   "outputs": [
    {
     "name": "stdout",
     "output_type": "stream",
     "text": [
      "[[1 2 3]\n",
      " [4 5 6]]\n"
     ]
    }
   ],
   "source": [
    "#Following is an example of two-dimentional array.\n",
    "b = np.array([(1,2,3),(4,5,6)])\n",
    "print(b)"
   ]
  },
  {
   "cell_type": "code",
   "execution_count": 234,
   "metadata": {},
   "outputs": [
    {
     "name": "stdout",
     "output_type": "stream",
     "text": [
      "[[1. 2. 3.]\n",
      " [4. 5. 6.]]\n"
     ]
    }
   ],
   "source": [
    "#We can also give the type to all the elements in the array. For example if we want to convert it into float.\n",
    "b = np.array([(1,2,3),(4,5,6)], dtype=float)\n",
    "print(b)"
   ]
  },
  {
   "cell_type": "code",
   "execution_count": 235,
   "metadata": {},
   "outputs": [
    {
     "data": {
      "text/plain": [
       "array([[0., 0., 0., 0.],\n",
       "       [0., 0., 0., 0.],\n",
       "       [0., 0., 0., 0.]])"
      ]
     },
     "execution_count": 235,
     "metadata": {},
     "output_type": "execute_result"
    }
   ],
   "source": [
    "#The function zeros creates an array full of zeros. \n",
    "\n",
    "np.zeros( (3,4) )"
   ]
  },
  {
   "cell_type": "code",
   "execution_count": 236,
   "metadata": {},
   "outputs": [
    {
     "data": {
      "text/plain": [
       "array([[[1, 1, 1, 1],\n",
       "        [1, 1, 1, 1],\n",
       "        [1, 1, 1, 1]],\n",
       "\n",
       "       [[1, 1, 1, 1],\n",
       "        [1, 1, 1, 1],\n",
       "        [1, 1, 1, 1]]], dtype=int16)"
      ]
     },
     "execution_count": 236,
     "metadata": {},
     "output_type": "execute_result"
    }
   ],
   "source": [
    "#The function ones creates an array full of ones.\n",
    "\n",
    "np.ones( (2,3,4), dtype=np.int16 )                "
   ]
  },
  {
   "cell_type": "code",
   "execution_count": 237,
   "metadata": {},
   "outputs": [
    {
     "data": {
      "text/plain": [
       "array([[1., 2., 3.],\n",
       "       [4., 5., 6.]])"
      ]
     },
     "execution_count": 237,
     "metadata": {},
     "output_type": "execute_result"
    }
   ],
   "source": [
    "#The function empty creates an array whose initial content is random and depends on the state of the memory.\n",
    "\n",
    "np.empty( (2,3) )"
   ]
  },
  {
   "cell_type": "code",
   "execution_count": 238,
   "metadata": {},
   "outputs": [
    {
     "data": {
      "text/plain": [
       "array([ 6, 10, 14, 18, 22])"
      ]
     },
     "execution_count": 238,
     "metadata": {},
     "output_type": "execute_result"
    }
   ],
   "source": [
    "#Let us find the sequence of number between two given number at regular interval \n",
    "#where 6 is start of sequence an 25 is the last element and 4 is the interval.\n",
    "np.arange(6,25,4)"
   ]
  },
  {
   "cell_type": "code",
   "execution_count": 239,
   "metadata": {},
   "outputs": [
    {
     "data": {
      "text/plain": [
       "array([ 6.  , 10.75, 15.5 , 20.25, 25.  ])"
      ]
     },
     "execution_count": 239,
     "metadata": {},
     "output_type": "execute_result"
    }
   ],
   "source": [
    "#It is generally not possible to predict the number of elements obtained, due to the finite floating point precision. \n",
    "#For this reason, it is usually better to use the function \"linspace\" that receives as an \n",
    "#argument the number of elements that we want, instead of the step:\n",
    "\n",
    "np.linspace(6,25,5)"
   ]
  },
  {
   "cell_type": "markdown",
   "metadata": {},
   "source": [
    "# Arithmetic Operations"
   ]
  },
  {
   "cell_type": "code",
   "execution_count": 240,
   "metadata": {},
   "outputs": [
    {
     "name": "stdout",
     "output_type": "stream",
     "text": [
      "Addition of x and y \n",
      " [11 22 33 44]\n",
      "\n",
      "Substraction of x and y\n",
      " [ 9 18 27 36]\n",
      "\n",
      "Multiplication of x and y\n",
      " [ 10  40  90 160]\n",
      "\n",
      "Cube of x\n",
      " [ 1000  8000 27000 64000]\n",
      "\n",
      "Division of x and y\n",
      " [10. 10. 10. 10.]\n",
      "\n",
      "Boolean value\n",
      " [False False False False]\n"
     ]
    }
   ],
   "source": [
    "#Let us do some basic arithmetic operations.\n",
    "x= np.array([10,20,30,40])\n",
    "y= np.array ([1,2,3,4])\n",
    "\n",
    "add=x+y       #addition\n",
    "print(\"Addition of x and y \\n\",add)\n",
    "\n",
    "sub=x-y\n",
    "print(\"\\nSubstraction of x and y\\n\",sub)    #substraction\n",
    "\n",
    "mul=x*y\n",
    "print(\"\\nMultiplication of x and y\\n\",mul)    #multiplication\n",
    "\n",
    "exp= x**3     #exponent-cube of array x.\n",
    "print(\"\\nCube of x\\n\",exp)\n",
    "\n",
    "div= x/y      #division\n",
    "print(\"\\nDivision of x and y\\n\",div)\n",
    "\n",
    "Bool= x<10\n",
    "print(\"\\nBoolean value\\n\",Bool)   #boolean \n"
   ]
  },
  {
   "cell_type": "code",
   "execution_count": 241,
   "metadata": {},
   "outputs": [
    {
     "name": "stdout",
     "output_type": "stream",
     "text": [
      "[[0.51406648 0.89289054 0.37143438]\n",
      " [0.13999348 0.91484914 0.47960537]]\n",
      "\n",
      "Sum of all elements \n",
      " 3.3128393887943934\n",
      "\n",
      "Minimum vaulue of the array \n",
      " 0.13999347651237137\n",
      "\n",
      "Maximum value of the array \n",
      " 0.914849135561248\n",
      "\n",
      "Sum of each column \n",
      " [0.65405996 1.80773968 0.85103975]\n"
     ]
    }
   ],
   "source": [
    "#Let us use some functions like sum(),min(),max().\n",
    "\n",
    "z= np.random.random((2,3))  #Gives us a random array of 2 rows and 3 columns.\n",
    "print(z)\n",
    "print(\"\\nSum of all elements \\n\",  z.sum())                     #Gives the sum of all the elements in the array.\n",
    "print(\"\\nMinimum vaulue of the array \\n\", z.min())  #Gives the minimum value in the array.\n",
    "print(\"\\nMaximum value of the array \\n\", z.max())               #Gives the maximum value in the array.  \n",
    "print(\"\\nSum of each column \\n\", z.sum(axis=0))               #This will give the sum of each column."
   ]
  },
  {
   "cell_type": "code",
   "execution_count": 242,
   "metadata": {},
   "outputs": [
    {
     "name": "stdout",
     "output_type": "stream",
     "text": [
      "Element-wise product\n",
      " [[36  5]\n",
      " [21  6]]\n",
      "\n",
      "Matrix-product\n",
      " [[43 51]\n",
      " [19 21]]\n"
     ]
    }
   ],
   "source": [
    "#Let us find element-wise product and matrix-product using \"*\" and \"@\" \n",
    "A = np.array( [[9,1], [3,1]] )\n",
    "B = np.array( [[4,5],[7,6]] )\n",
    "print(\"Element-wise product\\n\",A * B)                  #Gives you   \n",
    "print(\"\\nMatrix-product\\n\",A@B)"
   ]
  },
  {
   "cell_type": "code",
   "execution_count": 243,
   "metadata": {},
   "outputs": [
    {
     "name": "stdout",
     "output_type": "stream",
     "text": [
      "B = [0 1 2 3 4]\n",
      "\n",
      " Sin of all elements\n",
      " [ 0.          0.84147098  0.90929743  0.14112001 -0.7568025 ]\n",
      "\n",
      " Cos of all elements\n",
      " [ 1.          0.54030231 -0.41614684 -0.9899925  -0.65364362]\n",
      "\n",
      " Tan of all elements\n",
      " [ 0.          1.55740772 -2.18503986 -0.14254654  1.15782128]\n",
      "\n",
      " Exponent of all elements\n",
      " [ 1.          2.71828183  7.3890561  20.08553692 54.59815003]\n",
      "\n",
      " Square-root of all elements \n",
      " [0.         1.         1.41421356 1.73205081 2.        ]\n"
     ]
    }
   ],
   "source": [
    "#Universal Functions\n",
    "#NumPy provides familiar mathematical functions such as sin, cos, and exp. \n",
    "#In NumPy, these are called “universal functions”(ufunc). \n",
    "\n",
    "B = np.arange(5)\n",
    "print(\"B =\", B)\n",
    "\n",
    "print(\"\\n Sin of all elements\\n\", np.sin(B))\n",
    "print(\"\\n Cos of all elements\\n\", np.cos(B))\n",
    "print(\"\\n Tan of all elements\\n\", np.tan(B))\n",
    "print(\"\\n Exponent of all elements\\n\",np.exp(B))\n",
    "print(\"\\n Square-root of all elements \\n\",np.sqrt(B))\n",
    "\n",
    "\n"
   ]
  },
  {
   "cell_type": "markdown",
   "metadata": {},
   "source": [
    "# Indexing, Slicing and Iterating\n",
    "\n",
    "# One-dimensional arrays can be indexed, sliced and iterated over, as we did in lists.\n"
   ]
  },
  {
   "cell_type": "code",
   "execution_count": 244,
   "metadata": {},
   "outputs": [
    {
     "name": "stdout",
     "output_type": "stream",
     "text": [
      "[0 1 2 3 4]\n",
      "\n",
      " Access the element on index 1\n",
      "1\n",
      "\n",
      "We can access elements from index 1 to 2\n",
      "[1 2]\n",
      "\n",
      "We can reverse the elements in the array\n",
      "\n",
      "[4 3 2 1 0]\n",
      "\n",
      " We can use for loop to find the sqaure \n",
      "0\n",
      "1\n",
      "4\n",
      "9\n",
      "16\n"
     ]
    }
   ],
   "source": [
    "B = np.arange(5)\n",
    "print(B)\n",
    "print(\"\\n Access the element on index 1\")\n",
    "print(B[1])\n",
    "print(\"\\nWe can access elements from index 1 to 2\")\n",
    "print(B[1:3])\n",
    "print(\"\\nWe can reverse the elements in the array\\n\")\n",
    "print(B[::-1])\n",
    "print(\"\\n We can use for loop to find the sqaure \")\n",
    "for i in B:\n",
    " print (i**2)"
   ]
  },
  {
   "cell_type": "markdown",
   "metadata": {},
   "source": [
    "# Shape Manipulation\n",
    "\n",
    "# Changing the shape of an array"
   ]
  },
  {
   "cell_type": "code",
   "execution_count": 348,
   "metadata": {},
   "outputs": [
    {
     "name": "stdout",
     "output_type": "stream",
     "text": [
      "[[ 2  5  6  1]\n",
      " [10 50 60 90]\n",
      " [12 22 33 44]]\n"
     ]
    },
    {
     "data": {
      "text/plain": [
       "(3, 4)"
      ]
     },
     "execution_count": 348,
     "metadata": {},
     "output_type": "execute_result"
    }
   ],
   "source": [
    "#Let us find the shape of the array i.e. the number of rows and columns in the matrix.\n",
    "\n",
    "q= np.array([[2,5,6,1],[10,50,60,90],[12,22,33,44]])\n",
    "print(q)\n",
    "q.shape"
   ]
  },
  {
   "cell_type": "code",
   "execution_count": 246,
   "metadata": {},
   "outputs": [
    {
     "data": {
      "text/plain": [
       "array([ 2,  5,  6,  1, 10, 50, 60, 90, 12, 22, 33, 44])"
      ]
     },
     "execution_count": 246,
     "metadata": {},
     "output_type": "execute_result"
    }
   ],
   "source": [
    "#Let us convert the array in a flattened form using \"nparray.ravel()\"\n",
    "\n",
    "q.ravel()"
   ]
  },
  {
   "cell_type": "code",
   "execution_count": 247,
   "metadata": {},
   "outputs": [
    {
     "data": {
      "text/plain": [
       "array([[ 2,  5],\n",
       "       [ 6,  1],\n",
       "       [10, 50],\n",
       "       [60, 90],\n",
       "       [12, 22],\n",
       "       [33, 44]])"
      ]
     },
     "execution_count": 247,
     "metadata": {},
     "output_type": "execute_result"
    }
   ],
   "source": [
    "#Let us reshape the array using \"nparray.reshape()\" \n",
    "\n",
    "q.reshape(6,2)"
   ]
  },
  {
   "cell_type": "code",
   "execution_count": 248,
   "metadata": {},
   "outputs": [
    {
     "data": {
      "text/plain": [
       "array([[ 2, 10, 12],\n",
       "       [ 5, 50, 22],\n",
       "       [ 6, 60, 33],\n",
       "       [ 1, 90, 44]])"
      ]
     },
     "execution_count": 248,
     "metadata": {},
     "output_type": "execute_result"
    }
   ],
   "source": [
    "#Let us find the transpose of the array \"using nparray.T\"\n",
    "\n",
    "q.T"
   ]
  },
  {
   "cell_type": "markdown",
   "metadata": {},
   "source": [
    "# Stacking different arrays together"
   ]
  },
  {
   "cell_type": "code",
   "execution_count": 249,
   "metadata": {},
   "outputs": [
    {
     "name": "stdout",
     "output_type": "stream",
     "text": [
      "\n",
      "Vertical Stack\n"
     ]
    },
    {
     "data": {
      "text/plain": [
       "array([[ 2,  5,  6,  1],\n",
       "       [10, 50, 60, 90],\n",
       "       [12, 22, 33, 44],\n",
       "       [ 3,  4,  5,  6],\n",
       "       [12, 13, 14, 15],\n",
       "       [66, 77, 88, 99]])"
      ]
     },
     "execution_count": 249,
     "metadata": {},
     "output_type": "execute_result"
    }
   ],
   "source": [
    "#Let us stack two arrays horizontally and vertically.\n",
    "\n",
    "q= np.array([[2,5,6,1],[10,50,60,90],[12,22,33,44]])\n",
    "r= np.array([[3,4,5,6],[12,13,14,15],[66,77,88,99]])\n",
    "print(\"\\nVertical Stack\")\n",
    "np.vstack((q,r))                               #For vertical stack use nparray.vstack()"
   ]
  },
  {
   "cell_type": "code",
   "execution_count": 250,
   "metadata": {},
   "outputs": [
    {
     "name": "stdout",
     "output_type": "stream",
     "text": [
      "\n",
      "Horizontal Stack\n"
     ]
    },
    {
     "data": {
      "text/plain": [
       "array([[ 2,  5,  6,  1,  3,  4,  5,  6],\n",
       "       [10, 50, 60, 90, 12, 13, 14, 15],\n",
       "       [12, 22, 33, 44, 66, 77, 88, 99]])"
      ]
     },
     "execution_count": 250,
     "metadata": {},
     "output_type": "execute_result"
    }
   ],
   "source": [
    "print(\"\\nHorizontal Stack\")\n",
    "np.hstack((q,r))                            #For horizontal stack use nparray.hstack()"
   ]
  },
  {
   "cell_type": "markdown",
   "metadata": {},
   "source": [
    "# Spliting of arrays\n"
   ]
  },
  {
   "cell_type": "code",
   "execution_count": 349,
   "metadata": {},
   "outputs": [
    {
     "name": "stdout",
     "output_type": "stream",
     "text": [
      "\n",
      "Horizontal Split\n",
      "\n"
     ]
    },
    {
     "data": {
      "text/plain": [
       "[array([[0., 4.],\n",
       "        [0., 5.]]), array([[6., 4.],\n",
       "        [5., 3.]]), array([[2., 1.],\n",
       "        [2., 9.]]), array([[1., 9.],\n",
       "        [3., 3.]]), array([[4., 9.],\n",
       "        [5., 0.]])]"
      ]
     },
     "execution_count": 349,
     "metadata": {},
     "output_type": "execute_result"
    }
   ],
   "source": [
    "#Let us split arrays horizontally and vertically.\n",
    "\n",
    "a = np.floor(10*np.random.random((2,10)))\n",
    "a\n",
    "print(\"\\nHorizontal Split\\n\")\n",
    "np.hsplit(a,5)    #This will split the array horizontally"
   ]
  },
  {
   "cell_type": "code",
   "execution_count": 252,
   "metadata": {},
   "outputs": [
    {
     "name": "stdout",
     "output_type": "stream",
     "text": [
      "\n",
      " Vertical Split \n",
      "\n"
     ]
    },
    {
     "data": {
      "text/plain": [
       "[array([[6., 4., 2., 3., 1., 3., 4., 5., 8., 3.]]),\n",
       " array([[4., 7., 0., 3., 4., 1., 1., 0., 0., 7.]])]"
      ]
     },
     "execution_count": 252,
     "metadata": {},
     "output_type": "execute_result"
    }
   ],
   "source": [
    "print(\"\\n Vertical Split \\n\")\n",
    "np.vsplit(a,2)    #This will split the array vertically"
   ]
  },
  {
   "cell_type": "markdown",
   "metadata": {},
   "source": [
    "# Copies and Views"
   ]
  },
  {
   "cell_type": "code",
   "execution_count": 256,
   "metadata": {},
   "outputs": [
    {
     "name": "stdout",
     "output_type": "stream",
     "text": [
      "a= [[8. 9. 1. 1. 9. 5. 8. 6. 1. 5.]\n",
      " [2. 8. 4. 7. 8. 0. 8. 1. 1. 0.]]\n"
     ]
    },
    {
     "data": {
      "text/plain": [
       "True"
      ]
     },
     "execution_count": 256,
     "metadata": {},
     "output_type": "execute_result"
    }
   ],
   "source": [
    "#Let us copy elements from one array to another.\n",
    "\n",
    "a = np.floor(10*np.random.random((2,10)))\n",
    "print(\"a=\",a)\n",
    "m=a            #Here we copy array a to m\n",
    "m is a         #Here we check if we have properly copied the array into m or not"
   ]
  },
  {
   "cell_type": "code",
   "execution_count": 257,
   "metadata": {},
   "outputs": [
    {
     "data": {
      "text/plain": [
       "False"
      ]
     },
     "execution_count": 257,
     "metadata": {},
     "output_type": "execute_result"
    }
   ],
   "source": [
    "#View-Different array objects can share the same data. The view method creates a new array object that looks at the same data.\n",
    "\n",
    "n=a.view()  #Copies the structure of array but not the elements inside it\n",
    "n is a"
   ]
  },
  {
   "cell_type": "code",
   "execution_count": 258,
   "metadata": {},
   "outputs": [
    {
     "data": {
      "text/plain": [
       "True"
      ]
     },
     "execution_count": 258,
     "metadata": {},
     "output_type": "execute_result"
    }
   ],
   "source": [
    "n.base is a    #Copies both elements and structure both so answer is true."
   ]
  },
  {
   "cell_type": "code",
   "execution_count": 259,
   "metadata": {},
   "outputs": [
    {
     "data": {
      "text/plain": [
       "False"
      ]
     },
     "execution_count": 259,
     "metadata": {},
     "output_type": "execute_result"
    }
   ],
   "source": [
    "#Deep Copy-The copy method makes a complete copy of the array and its data.\n",
    "\n",
    "d = a.copy()   # A new array object with new data is created\n",
    "d is a"
   ]
  },
  {
   "cell_type": "code",
   "execution_count": 260,
   "metadata": {},
   "outputs": [
    {
     "data": {
      "text/plain": [
       "False"
      ]
     },
     "execution_count": 260,
     "metadata": {},
     "output_type": "execute_result"
    }
   ],
   "source": [
    "d.base is a  # d will not share anything with a"
   ]
  },
  {
   "cell_type": "markdown",
   "metadata": {},
   "source": [
    "\n",
    "\n",
    "\n",
    "\n",
    "\n",
    "\n",
    "\n",
    "\n",
    "# SciPy\n",
    "\n",
    "SciPy is a collection of mathematical algorithms and convenience functions built on the Numpy extension of Python. It adds significant power to the interactive Python session by providing the user with high-level commands and classes for manipulating and visualizing data. With SciPy an interactive Python session becomes a data-processing and system-prototyping environment rivaling systems such as MATLAB, IDL, Octave, R-Lab, and SciLab."
   ]
  },
  {
   "cell_type": "code",
   "execution_count": 261,
   "metadata": {},
   "outputs": [],
   "source": [
    "#Let us first import the package scipy beofre we use it also scipy is build on numpy so we import numpoy also.\n",
    "import scipy as sp\n",
    "import numpy as np"
   ]
  },
  {
   "cell_type": "markdown",
   "metadata": {},
   "source": [
    "# Working with Polynomials\n",
    "\n",
    "In SciPy, there are two ways in which we can deal with 1D polynomials. First one is using the class poly1d. This class takes coefficients or roots for initialization and forms a polynomial object. When we print this object we’ll see it prints like a polynomial."
   ]
  },
  {
   "cell_type": "code",
   "execution_count": 266,
   "metadata": {},
   "outputs": [
    {
     "name": "stdout",
     "output_type": "stream",
     "text": [
      "Polynomial is\n",
      "    2\n",
      "2 x + 5 x + 6\n"
     ]
    }
   ],
   "source": [
    "from numpy import poly1d\n",
    "Poly = poly1d([2,5,6])   #using the poly1d we can get the desired polynomial.\n",
    "print(\"Polynomial is\\n\",Poly)"
   ]
  },
  {
   "cell_type": "code",
   "execution_count": 275,
   "metadata": {},
   "outputs": [
    {
     "name": "stdout",
     "output_type": "stream",
     "text": [
      "\n",
      "Cubing the polynomial: \n",
      "\n",
      "   6      5       4       3       2\n",
      "8 x + 60 x + 222 x + 485 x + 666 x + 540 x + 216\n"
     ]
    }
   ],
   "source": [
    "print(\"\\nCubing the polynomial: \\n\")\n",
    "print(Poly*Poly*Poly)      #Cubing the polynomial   "
   ]
  },
  {
   "cell_type": "code",
   "execution_count": 276,
   "metadata": {},
   "outputs": [
    {
     "name": "stdout",
     "output_type": "stream",
     "text": [
      "\n",
      "Integrating the polynomial: \n",
      "\n",
      "        3       2\n",
      "0.6667 x + 2.5 x + 6 x + 4\n"
     ]
    }
   ],
   "source": [
    "print(\"\\nIntegrating the polynomial: \\n\")\n",
    "print(Poly.integ(k=4))     #we use poly.integ() to integrate the polynomial"
   ]
  },
  {
   "cell_type": "code",
   "execution_count": 277,
   "metadata": {},
   "outputs": [
    {
     "name": "stdout",
     "output_type": "stream",
     "text": [
      "\n",
      "Finding derivative of the polynomial:\n",
      " \n",
      "4 x + 5\n"
     ]
    }
   ],
   "source": [
    "print(\"\\nFinding derivative of the polynomial:\")\n",
    "print(Poly.deriv())      #we use poly.deriv() to derive the polynomial."
   ]
  },
  {
   "cell_type": "code",
   "execution_count": 278,
   "metadata": {},
   "outputs": [
    {
     "name": "stdout",
     "output_type": "stream",
     "text": [
      "\n",
      "Solving the polynomial for 2: \n",
      "\n",
      "213\n"
     ]
    }
   ],
   "source": [
    "print(\"\\nSolving the polynomial for 2: \\n\")\n",
    "print(Poly(9))        #we can solve the polynomial by passing the value.  "
   ]
  },
  {
   "cell_type": "markdown",
   "metadata": {},
   "source": [
    "# Working with Linear Algebra\n",
    "\n",
    "SciPy holds very fast linear algebra capabilities as it’s built using ATLAS LAPACK and BLAS libraries. The libraries are even available to use if you want more speed but you have to dig deep in that case.\n",
    "All the linear algebra routines in SciPy take an object that can be converted into a 2D array and the output is of the same type."
   ]
  },
  {
   "cell_type": "code",
   "execution_count": 285,
   "metadata": {},
   "outputs": [
    {
     "name": "stdout",
     "output_type": "stream",
     "text": [
      "[[-2.45]\n",
      " [ 6.5 ]]\n",
      "\n",
      " Checking results, following vector should be all zeros\n",
      "[[0.]\n",
      " [0.]]\n"
     ]
    }
   ],
   "source": [
    "#To solve linear algebra we have to import linglg command.\n",
    "import numpy as np\n",
    "from scipy import linalg\n",
    "\n",
    "# Let us create an input array\n",
    "A= np.array([[10,5],[20,8]])\n",
    "\n",
    "# Let us create a solution Array\n",
    "B= np.array([[8],[3]])\n",
    "\n",
    "# Solve the linear algebra using lingalg.solve().\n",
    "X= linalg.solve(A,B)\n",
    "\n",
    "# Print results\n",
    "print(X)\n",
    "\n",
    "# To check the result we will see if all the vectors are zero or not.\n",
    "print(\"\\n Checking results, following vector should be all zeros\")\n",
    "print(A.dot(X)-B)"
   ]
  },
  {
   "cell_type": "code",
   "execution_count": 321,
   "metadata": {},
   "outputs": [
    {
     "name": "stdout",
     "output_type": "stream",
     "text": [
      "A= [[ 5 10 15]\n",
      " [ 2  4 16]\n",
      " [ 2  3  8]]\n",
      "Inverse of matrix= [[-3.20000000e-01 -7.00000000e-01  2.00000000e+00]\n",
      " [ 3.20000000e-01  2.00000000e-01 -1.00000000e+00]\n",
      " [-4.00000000e-02  1.00000000e-01 -2.22044605e-17]]\n"
     ]
    }
   ],
   "source": [
    "#Let us find the inverse of the matrix.\n",
    "A = np.array([[5,10,15],[2,4,16],[2,3,8]])\n",
    "print(\"A=\",A)\n",
    "\n",
    "print(\"Inverse of matrix=\",linalg.inv(A))    #We can get the inverse using \"lingalg.inv()\""
   ]
  },
  {
   "cell_type": "code",
   "execution_count": 320,
   "metadata": {},
   "outputs": [
    {
     "name": "stdout",
     "output_type": "stream",
     "text": [
      "A= [[7 8]\n",
      " [9 0]]\n",
      "Determinant= -72.0\n"
     ]
    }
   ],
   "source": [
    "#Let us find determinant of  a matrix.\n",
    "import numpy as np\n",
    "from scipy import linalg\n",
    "A = np.array([[7,8],[9,0]])   \n",
    "print(\"A=\",A)\n",
    "\n",
    "\n",
    "print(\"Determinant=\",linalg.det(A))     #we can get the determinant using \"linalg.det()\""
   ]
  },
  {
   "cell_type": "code",
   "execution_count": 329,
   "metadata": {},
   "outputs": [
    {
     "name": "stdout",
     "output_type": "stream",
     "text": [
      "A = [[7 8]\n",
      " [9 0]]\n",
      "Norm = 13.92838827718412\n"
     ]
    }
   ],
   "source": [
    "#Let us find the norm of matirx.\n",
    "A=np.array([[7,8],[9,0]])\n",
    "print(\"A =\",A)\n",
    "\n",
    "print(\"Norm =\",linalg.norm(A))     #we can get the norm using \"lingla.norm()\""
   ]
  },
  {
   "cell_type": "code",
   "execution_count": 299,
   "metadata": {},
   "outputs": [
    {
     "data": {
      "text/plain": [
       "array([ 2, 12, 30, 56])"
      ]
     },
     "execution_count": 299,
     "metadata": {},
     "output_type": "execute_result"
    }
   ],
   "source": [
    "# Let us use the vectorize function to do some basic operations\n",
    "def addsubtract(a,b):\n",
    "    if a > b:\n",
    "        return a * b\n",
    "    else:\n",
    "       return a / b\n",
    "vec_addsubtract = np.vectorize(addsubtract)  \n",
    "vec_addsubtract([2,4,6,8],[1,3,5,7])"
   ]
  },
  {
   "cell_type": "markdown",
   "metadata": {},
   "source": [
    "# SciPy Integration\n"
   ]
  },
  {
   "cell_type": "code",
   "execution_count": 336,
   "metadata": {},
   "outputs": [
    {
     "name": "stdout",
     "output_type": "stream",
     "text": [
      "Integration= (20.0, 2.220446049250313e-13)\n"
     ]
    }
   ],
   "source": [
    "# #To solve Integration we have to import integrate from scipy.\n",
    "from scipy import integrate\n",
    "\n",
    "# Using quad as we can see in list quad is used for simple integration\n",
    "# arg1: A lambda function which returns x cubed for every x\n",
    "# We'll be integrating this function\n",
    "# arg2: lower limit\n",
    "# arg3: upper limit\n",
    "inte= integrate.quad(lambda x: x**3, 1,3)\n",
    "print(\"Integration=\",inte)"
   ]
  },
  {
   "cell_type": "markdown",
   "metadata": {},
   "source": [
    "# SciPy Fourier Transforms\n",
    "Fourier analysis helps us to express a function as a sum of periodic components and for recovering the signal from those components."
   ]
  },
  {
   "cell_type": "code",
   "execution_count": 304,
   "metadata": {},
   "outputs": [
    {
     "data": {
      "text/plain": [
       "array([19.5        +0.j        , 10.59878041 -5.48808098j,\n",
       "       -7.84878041+16.32309613j, -7.84878041-16.32309613j,\n",
       "       10.59878041 +5.48808098j])"
      ]
     },
     "execution_count": 304,
     "metadata": {},
     "output_type": "execute_result"
    }
   ],
   "source": [
    "#To solve fourier transformation problems we have to import fft from scipy.fftpack.\n",
    "from scipy.fftpack import fft\n",
    "import numpy as np\n",
    "\n",
    "x = np.array([5.0, 6.0, 7.0, -8.0, 9.5])\n",
    "y = fft(x)                    #It will give us the fourier transformation.\n",
    "y  "
   ]
  },
  {
   "cell_type": "code",
   "execution_count": 335,
   "metadata": {},
   "outputs": [
    {
     "data": {
      "text/plain": [
       "array([19.5       , 10.59878041, -5.48808098, -7.84878041, 16.32309613])"
      ]
     },
     "execution_count": 335,
     "metadata": {},
     "output_type": "execute_result"
    }
   ],
   "source": [
    "#To find the real sequence of fourier we have to import \"rfft\"\n",
    "\n",
    "from scipy.fftpack import rfft\n",
    "r = rfft(x)                 #It will give us the real sequence of fourier transformation.\n",
    "r"
   ]
  },
  {
   "cell_type": "code",
   "execution_count": 330,
   "metadata": {},
   "outputs": [
    {
     "data": {
      "text/plain": [
       "array([ 5. +0.j,  6. +0.j,  7. +0.j, -8. +0.j,  9.5+0.j])"
      ]
     },
     "execution_count": 330,
     "metadata": {},
     "output_type": "execute_result"
    }
   ],
   "source": [
    "#To find the inverse of fourier we have to import \"ifft\"\n",
    "\n",
    "from scipy.fftpack import ifft\n",
    "import numpy as np\n",
    "\n",
    "yinv = ifft(y)                   #It will give us the inverse of fourier transformation.\n",
    "yinv "
   ]
  },
  {
   "cell_type": "markdown",
   "metadata": {},
   "source": [
    "# Signal Processing \n",
    "\n",
    "The signal processing toolbox currently contains some filtering functions, a limited set of filter design tools, and a few B-spline interpolation algorithms for one- and two-dimensional data."
   ]
  },
  {
   "cell_type": "code",
   "execution_count": 343,
   "metadata": {},
   "outputs": [
    {
     "name": "stdout",
     "output_type": "stream",
     "text": [
      "Convolution = [ 28  67 125 157 127  72   0]\n"
     ]
    }
   ],
   "source": [
    "#To find the convolution we have to import and use scipy.signal.\n",
    "\n",
    "from scipy import signal\n",
    "x = np.array([7, 8, 9])\n",
    "h = np.array([4, 5, 7, 8, 0])\n",
    "\n",
    "print(\"Convolution =\",signal.convolve(x, h))          #we can find the convolution using singal.convolve()"
   ]
  },
  {
   "cell_type": "code",
   "execution_count": 347,
   "metadata": {},
   "outputs": [
    {
     "name": "stdout",
     "output_type": "stream",
     "text": [
      "Correlation = [  0  56 113 163 131  77  36]\n"
     ]
    }
   ],
   "source": [
    "#To find the correlation we have to import and use scipy.signal.\n",
    "\n",
    "from scipy import signal\n",
    "x = np.array([7, 8, 9])\n",
    "h = np.array([4, 5, 7, 8, 0])\n",
    "\n",
    "print(\"Correlation =\",signal.correlate(x, h))    #we can find the convolution using singal.correlate()"
   ]
  },
  {
   "cell_type": "markdown",
   "metadata": {},
   "source": [
    "# References \n",
    "\n",
    "https://docs.scipy.org/doc/scipy/reference/tutorial/index.html\n",
    "\n",
    "https://www.journaldev.com/18106/python-scipy-tutorial#importing-scipy-library"
   ]
  }
 ],
 "metadata": {
  "kernelspec": {
   "display_name": "Python 3",
   "language": "python",
   "name": "python3"
  },
  "language_info": {
   "codemirror_mode": {
    "name": "ipython",
    "version": 3
   },
   "file_extension": ".py",
   "mimetype": "text/x-python",
   "name": "python",
   "nbconvert_exporter": "python",
   "pygments_lexer": "ipython3",
   "version": "3.6.5"
  }
 },
 "nbformat": 4,
 "nbformat_minor": 2
}
