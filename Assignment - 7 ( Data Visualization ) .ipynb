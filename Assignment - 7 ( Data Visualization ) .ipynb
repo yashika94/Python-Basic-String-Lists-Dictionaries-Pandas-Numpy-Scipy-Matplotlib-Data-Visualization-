{
 "cells": [
  {
   "cell_type": "markdown",
   "metadata": {},
   "source": [
    "# Assignment - 7 ( Data Visualization )"
   ]
  },
  {
   "cell_type": "markdown",
   "metadata": {},
   "source": [
    "# Aim - To visualize 3 variables both individually and pairwise and write short summary based on conclusions."
   ]
  },
  {
   "cell_type": "markdown",
   "metadata": {},
   "source": [
    "# Times Square Food & Beverage Locations Business¶\n",
    "\n",
    "Directory of food and beverage venues in the Times Square area. Here is a dataset which consists of 331 rows and 17 columns.We have to clean the dataset i.e. remove missing values, fix formats, standardize etc..."
   ]
  },
  {
   "cell_type": "code",
   "execution_count": 1,
   "metadata": {},
   "outputs": [],
   "source": [
    "#Let us first import all the important and neccesary packages.\n",
    "\n",
    "%matplotlib inline\n",
    "#It will performs the necessary behind the scences setup for Ipython to work correctly.\n",
    "\n",
    "import os #the OS module provides allows you to interface with the underlying operating system that Python is running on.\n",
    "import numpy as np #It will import all numpy functionalities and numpy packages.\n",
    "import pandas as pd #It will import all pandas functionalities and pandas packages.\n",
    "import seaborn as sns #It will import Seaborn packages which will provides a high-level interface for drawing \n",
    "                      #attractive and informative statistical graphics\n",
    "import matplotlib.pyplot as plt #pyplot is matplotlib's plotting framework. \n",
    "                                #That specific import line merely imports the module \"matplotlib.pyplot\" and \n",
    "                                #binds that to the name \"plt\""
   ]
  },
  {
   "cell_type": "code",
   "execution_count": 30,
   "metadata": {},
   "outputs": [
    {
     "data": {
      "text/html": [
       "<div>\n",
       "<style scoped>\n",
       "    .dataframe tbody tr th:only-of-type {\n",
       "        vertical-align: middle;\n",
       "    }\n",
       "\n",
       "    .dataframe tbody tr th {\n",
       "        vertical-align: top;\n",
       "    }\n",
       "\n",
       "    .dataframe thead th {\n",
       "        text-align: right;\n",
       "    }\n",
       "</style>\n",
       "<table border=\"1\" class=\"dataframe\">\n",
       "  <thead>\n",
       "    <tr style=\"text-align: right;\">\n",
       "      <th></th>\n",
       "      <th>Company Name</th>\n",
       "      <th>Subindustry</th>\n",
       "      <th>Sub Subindustry</th>\n",
       "      <th>Address</th>\n",
       "      <th>Phone</th>\n",
       "      <th>Website</th>\n",
       "      <th>Borough</th>\n",
       "      <th>Postcode</th>\n",
       "      <th>Latitude</th>\n",
       "      <th>Longitude</th>\n",
       "      <th>Community Board</th>\n",
       "      <th>Community Council</th>\n",
       "      <th>Census Tract</th>\n",
       "      <th>BIN</th>\n",
       "      <th>BBL</th>\n",
       "      <th>NTA</th>\n",
       "      <th>Location 1</th>\n",
       "    </tr>\n",
       "  </thead>\n",
       "  <tbody>\n",
       "    <tr>\n",
       "      <th>0</th>\n",
       "      <td>Europa Cafe</td>\n",
       "      <td>Café / Deli</td>\n",
       "      <td>NaN</td>\n",
       "      <td>3 Times Sq</td>\n",
       "      <td>212-239-0160</td>\n",
       "      <td>www.euorpacafe.com</td>\n",
       "      <td>1</td>\n",
       "      <td>10036.0</td>\n",
       "      <td>40.756376</td>\n",
       "      <td>-73.986713</td>\n",
       "      <td>5.0</td>\n",
       "      <td>3.0</td>\n",
       "      <td>119.0</td>\n",
       "      <td>1024686.0</td>\n",
       "      <td>1.010140e+09</td>\n",
       "      <td>Midtown-Midtown South                         ...</td>\n",
       "      <td>3 Times Sq\\n(40.756376, -73.986713)</td>\n",
       "    </tr>\n",
       "    <tr>\n",
       "      <th>1</th>\n",
       "      <td>Ranch 1</td>\n",
       "      <td>Quick Serve</td>\n",
       "      <td>Fast Food</td>\n",
       "      <td>832 Eighth Ave</td>\n",
       "      <td>2129561111</td>\n",
       "      <td>NaN</td>\n",
       "      <td>1</td>\n",
       "      <td>10019.0</td>\n",
       "      <td>40.762444</td>\n",
       "      <td>-73.985983</td>\n",
       "      <td>5.0</td>\n",
       "      <td>3.0</td>\n",
       "      <td>131.0</td>\n",
       "      <td>1024809.0</td>\n",
       "      <td>1.010220e+09</td>\n",
       "      <td>Midtown-Midtown South                         ...</td>\n",
       "      <td>832 Eighth Ave\\n(40.762444, -73.985983)</td>\n",
       "    </tr>\n",
       "    <tr>\n",
       "      <th>2</th>\n",
       "      <td>Sosa Borella</td>\n",
       "      <td>Full Serve</td>\n",
       "      <td>Argentinian</td>\n",
       "      <td>832 Eighth Ave</td>\n",
       "      <td>(212) 262-8282</td>\n",
       "      <td>http://www.sosaborella.com/</td>\n",
       "      <td>1</td>\n",
       "      <td>10019.0</td>\n",
       "      <td>40.762444</td>\n",
       "      <td>-73.985983</td>\n",
       "      <td>5.0</td>\n",
       "      <td>3.0</td>\n",
       "      <td>131.0</td>\n",
       "      <td>1024809.0</td>\n",
       "      <td>1.010220e+09</td>\n",
       "      <td>Midtown-Midtown South                         ...</td>\n",
       "      <td>832 Eighth Ave\\n(40.762444, -73.985983)</td>\n",
       "    </tr>\n",
       "    <tr>\n",
       "      <th>3</th>\n",
       "      <td>Mi Nidito (Cantina Mexicana)</td>\n",
       "      <td>Full Serve</td>\n",
       "      <td>Mexican</td>\n",
       "      <td>852 Eighth Ave</td>\n",
       "      <td>(212) 265-0022</td>\n",
       "      <td>NaN</td>\n",
       "      <td>1</td>\n",
       "      <td>10019.0</td>\n",
       "      <td>40.763128</td>\n",
       "      <td>-73.985481</td>\n",
       "      <td>5.0</td>\n",
       "      <td>3.0</td>\n",
       "      <td>131.0</td>\n",
       "      <td>1081646.0</td>\n",
       "      <td>1.010230e+09</td>\n",
       "      <td>Midtown-Midtown South                         ...</td>\n",
       "      <td>852 Eighth Ave\\n(40.763128, -73.985481)</td>\n",
       "    </tr>\n",
       "    <tr>\n",
       "      <th>4</th>\n",
       "      <td>Starbucks</td>\n",
       "      <td>Coffee</td>\n",
       "      <td>NaN</td>\n",
       "      <td>871-879 Eighth Ave, Suite# 871</td>\n",
       "      <td>2122467699</td>\n",
       "      <td>www.starbucks.com</td>\n",
       "      <td>1</td>\n",
       "      <td>10019.0</td>\n",
       "      <td>40.763644</td>\n",
       "      <td>-73.985134</td>\n",
       "      <td>4.0</td>\n",
       "      <td>3.0</td>\n",
       "      <td>133.0</td>\n",
       "      <td>1025257.0</td>\n",
       "      <td>1.010438e+09</td>\n",
       "      <td>Clinton                                       ...</td>\n",
       "      <td>871-879 Eighth Ave, Suite# 871\\n(40.763644, -7...</td>\n",
       "    </tr>\n",
       "  </tbody>\n",
       "</table>\n",
       "</div>"
      ],
      "text/plain": [
       "                   Company Name  Subindustry Sub Subindustry  \\\n",
       "0                   Europa Cafe  Café / Deli             NaN   \n",
       "1                       Ranch 1  Quick Serve       Fast Food   \n",
       "2                  Sosa Borella   Full Serve     Argentinian   \n",
       "3  Mi Nidito (Cantina Mexicana)   Full Serve         Mexican   \n",
       "4                     Starbucks       Coffee             NaN   \n",
       "\n",
       "                          Address           Phone  \\\n",
       "0                      3 Times Sq    212-239-0160   \n",
       "1                  832 Eighth Ave      2129561111   \n",
       "2                  832 Eighth Ave  (212) 262-8282   \n",
       "3                  852 Eighth Ave  (212) 265-0022   \n",
       "4  871-879 Eighth Ave, Suite# 871      2122467699   \n",
       "\n",
       "                       Website  Borough  Postcode   Latitude  Longitude  \\\n",
       "0           www.euorpacafe.com        1   10036.0  40.756376 -73.986713   \n",
       "1                          NaN        1   10019.0  40.762444 -73.985983   \n",
       "2  http://www.sosaborella.com/        1   10019.0  40.762444 -73.985983   \n",
       "3                          NaN        1   10019.0  40.763128 -73.985481   \n",
       "4            www.starbucks.com        1   10019.0  40.763644 -73.985134   \n",
       "\n",
       "   Community Board  Community Council   Census Tract        BIN           BBL  \\\n",
       "0              5.0                 3.0         119.0  1024686.0  1.010140e+09   \n",
       "1              5.0                 3.0         131.0  1024809.0  1.010220e+09   \n",
       "2              5.0                 3.0         131.0  1024809.0  1.010220e+09   \n",
       "3              5.0                 3.0         131.0  1081646.0  1.010230e+09   \n",
       "4              4.0                 3.0         133.0  1025257.0  1.010438e+09   \n",
       "\n",
       "                                                 NTA  \\\n",
       "0  Midtown-Midtown South                         ...   \n",
       "1  Midtown-Midtown South                         ...   \n",
       "2  Midtown-Midtown South                         ...   \n",
       "3  Midtown-Midtown South                         ...   \n",
       "4  Clinton                                       ...   \n",
       "\n",
       "                                          Location 1  \n",
       "0                3 Times Sq\\n(40.756376, -73.986713)  \n",
       "1            832 Eighth Ave\\n(40.762444, -73.985983)  \n",
       "2            832 Eighth Ave\\n(40.762444, -73.985983)  \n",
       "3            852 Eighth Ave\\n(40.763128, -73.985481)  \n",
       "4  871-879 Eighth Ave, Suite# 871\\n(40.763644, -7...  "
      ]
     },
     "execution_count": 30,
     "metadata": {},
     "output_type": "execute_result"
    }
   ],
   "source": [
    "#Let us now import a dataset from the system.\n",
    "\n",
    "df = pd.read_csv('C:/Users/sagar/Desktop/Python/Times_Square_Food___Beverage_Locations.csv')\n",
    "df.head()"
   ]
  },
  {
   "cell_type": "code",
   "execution_count": 80,
   "metadata": {},
   "outputs": [
    {
     "data": {
      "text/plain": [
       "array([[<matplotlib.axes._subplots.AxesSubplot object at 0x00000285425E6D30>]],\n",
       "      dtype=object)"
      ]
     },
     "execution_count": 80,
     "metadata": {},
     "output_type": "execute_result"
    },
    {
     "data": {
      "image/png": "[encoded data removed]",
      "text/plain": [
       "<Figure size 432x288 with 1 Axes>"
      ]
     },
     "metadata": {},
     "output_type": "display_data"
    }
   ],
   "source": [
    "#Let us create a histogram for census tract column.\n",
    "\n",
    "df = pd.read_csv('C:/Users/sagar/Desktop/Python/Times_Square_Food___Beverage_Locations.csv')\n",
    "df.hist(column=['Census Tract'])"
   ]
  },
  {
   "cell_type": "markdown",
   "metadata": {},
   "source": [
    "So from the above graph we can see that there are 145 entries in the table having census in the range of 110 to 125 and 180 entries in the table with census in the range of 125 to 135"
   ]
  },
  {
   "cell_type": "code",
   "execution_count": 142,
   "metadata": {},
   "outputs": [
    {
     "data": {
      "text/plain": [
       "array([[<matplotlib.axes._subplots.AxesSubplot object at 0x000002854AA0EEF0>]],\n",
       "      dtype=object)"
      ]
     },
     "execution_count": 142,
     "metadata": {},
     "output_type": "execute_result"
    },
    {
     "data": {
      "image/png": "[encoded data removed]",
      "text/plain": [
       "<Figure size 432x288 with 1 Axes>"
      ]
     },
     "metadata": {},
     "output_type": "display_data"
    }
   ],
   "source": [
    "#Let us create a histogram for PostCode column.\n",
    "\n",
    "df.hist(column=['Postcode'], bins = 100)"
   ]
  },
  {
   "cell_type": "markdown",
   "metadata": {},
   "source": [
    "From the above graph we can see that there are 5 entries with postcode 10018,\n",
    "110 entires with postcode 10019, \n",
    "5 entries with postcode 10020,\n",
    "205 entires with postcode 10036."
   ]
  },
  {
   "cell_type": "code",
   "execution_count": 97,
   "metadata": {
    "scrolled": true
   },
   "outputs": [
    {
     "data": {
      "text/plain": [
       "array([[<matplotlib.axes._subplots.AxesSubplot object at 0x0000028543308978>]],\n",
       "      dtype=object)"
      ]
     },
     "execution_count": 97,
     "metadata": {},
     "output_type": "execute_result"
    },
    {
     "data": {
      "image/png": "[encoded data removed]",
      "text/plain": [
       "<Figure size 432x288 with 1 Axes>"
      ]
     },
     "metadata": {},
     "output_type": "display_data"
    }
   ],
   "source": [
    "#Let us create a histogram for BBL column.\n",
    "\n",
    "df.hist(column=['BBL'])"
   ]
  },
  {
   "cell_type": "markdown",
   "metadata": {},
   "source": [
    "From the above graph we can see that there are 5 entries with BBL value 1005, 65 entries woth value 1009.5 to 1010, 255 entries with calue 1010to 1010.5 and 5 entries with values 1011."
   ]
  },
  {
   "cell_type": "code",
   "execution_count": 14,
   "metadata": {},
   "outputs": [
    {
     "data": {
      "text/plain": [
       "<matplotlib.axes._subplots.AxesSubplot at 0x2853b97f6a0>"
      ]
     },
     "execution_count": 14,
     "metadata": {},
     "output_type": "execute_result"
    },
    {
     "data": {
      "image/png": "[encoded data removed]",
      "text/plain": [
       "<Figure size 432x288 with 1 Axes>"
      ]
     },
     "metadata": {},
     "output_type": "display_data"
    }
   ],
   "source": [
    "#Let us create a boxplot for Census Tract column.\n",
    "\n",
    "df.boxplot(column=['Census Tract'])"
   ]
  },
  {
   "cell_type": "markdown",
   "metadata": {},
   "source": [
    "From the above boxplot we can see that the max value of census is 135 and min value of census is 119. The mediam is 130 and interquartile range is 120 and 130."
   ]
  },
  {
   "cell_type": "code",
   "execution_count": 98,
   "metadata": {},
   "outputs": [
    {
     "data": {
      "text/plain": [
       "<matplotlib.axes._subplots.AxesSubplot at 0x285432b6668>"
      ]
     },
     "execution_count": 98,
     "metadata": {},
     "output_type": "execute_result"
    },
    {
     "data": {
      "image/png": "[encoded data removed]",
      "text/plain": [
       "<Figure size 432x288 with 1 Axes>"
      ]
     },
     "metadata": {},
     "output_type": "display_data"
    }
   ],
   "source": [
    "df.boxplot(column=['Postcode'])"
   ]
  },
  {
   "cell_type": "markdown",
   "metadata": {},
   "source": [
    "From the above bloxplot we can see that the interquartile range is 10019 to 10036."
   ]
  },
  {
   "cell_type": "code",
   "execution_count": 100,
   "metadata": {},
   "outputs": [
    {
     "data": {
      "text/plain": [
       "<matplotlib.axes._subplots.AxesSubplot at 0x285434b3828>"
      ]
     },
     "execution_count": 100,
     "metadata": {},
     "output_type": "execute_result"
    },
    {
     "data": {
      "image/png": "[encoded data removed]",
      "text/plain": [
       "<Figure size 432x288 with 1 Axes>"
      ]
     },
     "metadata": {},
     "output_type": "display_data"
    }
   ],
   "source": [
    "df.boxplot(column=['BBL'])"
   ]
  },
  {
   "cell_type": "markdown",
   "metadata": {},
   "source": [
    "From the above boxplot we can see that there are outliers at 1005 and 1011. The min value of BBL is 1010 and max value is 1010.5. The interquartile range is between 1010 and 1010.3."
   ]
  },
  {
   "cell_type": "code",
   "execution_count": 18,
   "metadata": {},
   "outputs": [
    {
     "data": {
      "text/plain": [
       "array([[<matplotlib.axes._subplots.AxesSubplot object at 0x000002853D289588>,\n",
       "        <matplotlib.axes._subplots.AxesSubplot object at 0x000002853D38C518>]],\n",
       "      dtype=object)"
      ]
     },
     "execution_count": 18,
     "metadata": {},
     "output_type": "execute_result"
    },
    {
     "data": {
      "image/png": "[encoded data removed]",
      "text/plain": [
       "<Figure size 432x288 with 2 Axes>"
      ]
     },
     "metadata": {},
     "output_type": "display_data"
    }
   ],
   "source": [
    "df.hist(column=['Census Tract','BBL'])"
   ]
  },
  {
   "cell_type": "code",
   "execution_count": 102,
   "metadata": {},
   "outputs": [
    {
     "data": {
      "text/plain": [
       "array([[<matplotlib.axes._subplots.AxesSubplot object at 0x00000285435EF198>,\n",
       "        <matplotlib.axes._subplots.AxesSubplot object at 0x0000028543619A90>]],\n",
       "      dtype=object)"
      ]
     },
     "execution_count": 102,
     "metadata": {},
     "output_type": "execute_result"
    },
    {
     "data": {
      "image/png": "[encoded data removed]",
      "text/plain": [
       "<Figure size 432x288 with 2 Axes>"
      ]
     },
     "metadata": {},
     "output_type": "display_data"
    }
   ],
   "source": [
    "df.hist(column=['BBL','Postcode'])"
   ]
  },
  {
   "cell_type": "code",
   "execution_count": 129,
   "metadata": {},
   "outputs": [
    {
     "data": {
      "image/png": "[encoded data removed]",
      "text/plain": [
       "<Figure size 432x288 with 1 Axes>"
      ]
     },
     "metadata": {},
     "output_type": "display_data"
    }
   ],
   "source": [
    "plt.scatter(df[\"Subindustry\"],df[\"Census Tract\"])\n",
    "plt.show()"
   ]
  },
  {
   "cell_type": "markdown",
   "metadata": {},
   "source": [
    "From the above scatterplot we can see that less number of people prefer Cafe around 40 and maximum number of people prefer fullserve around 160. Also quickserve, lounges and consumables have same number of people in the range of 115 to 135."
   ]
  },
  {
   "cell_type": "code",
   "execution_count": 134,
   "metadata": {},
   "outputs": [],
   "source": [
    "df.rename(columns = {'Sub Subindustry':'Cuisine'},inplace=True)"
   ]
  },
  {
   "cell_type": "code",
   "execution_count": 137,
   "metadata": {},
   "outputs": [],
   "source": [
    "df[\"Cuisine\"].fillna(value=\"Indian Food\", inplace = True)"
   ]
  },
  {
   "cell_type": "code",
   "execution_count": 139,
   "metadata": {
    "scrolled": true
   },
   "outputs": [
    {
     "data": {
      "image/png": "[encoded data removed]",
      "text/plain": [
       "<Figure size 432x288 with 1 Axes>"
      ]
     },
     "metadata": {},
     "output_type": "display_data"
    }
   ],
   "source": [
    "plt.scatter(df[\"Cuisine\"],df[\"Census Tract\"])\n",
    "plt.show()"
   ]
  },
  {
   "cell_type": "markdown",
   "metadata": {},
   "source": [
    "From the above scatterplot we can see that less people prefer Indian food which is around 40 and mexican food has maximum number of people around 160.\n"
   ]
  },
  {
   "cell_type": "code",
   "execution_count": 2,
   "metadata": {},
   "outputs": [
    {
     "ename": "NameError",
     "evalue": "name 'plt' is not defined",
     "output_type": "error",
     "traceback": [
      "\u001b[1;31m---------------------------------------------------------------------------\u001b[0m",
      "\u001b[1;31mNameError\u001b[0m                                 Traceback (most recent call last)",
      "\u001b[1;32m<ipython-input-2-e81314e808c9>\u001b[0m in \u001b[0;36m<module>\u001b[1;34m()\u001b[0m\n\u001b[1;32m----> 1\u001b[1;33m \u001b[0mplt\u001b[0m\u001b[1;33m.\u001b[0m\u001b[0mscatter\u001b[0m\u001b[1;33m(\u001b[0m\u001b[0mdf\u001b[0m\u001b[1;33m[\u001b[0m\u001b[1;34m\"Location 1\"\u001b[0m\u001b[1;33m]\u001b[0m\u001b[1;33m,\u001b[0m\u001b[0mdf\u001b[0m\u001b[1;33m[\u001b[0m\u001b[1;34m\"Census Tract\"\u001b[0m\u001b[1;33m]\u001b[0m\u001b[1;33m)\u001b[0m\u001b[1;33m\u001b[0m\u001b[0m\n\u001b[0m\u001b[0;32m      2\u001b[0m \u001b[0mplt\u001b[0m\u001b[1;33m.\u001b[0m\u001b[0mshow\u001b[0m\u001b[1;33m(\u001b[0m\u001b[1;33m)\u001b[0m\u001b[1;33m\u001b[0m\u001b[0m\n",
      "\u001b[1;31mNameError\u001b[0m: name 'plt' is not defined"
     ]
    }
   ],
   "source": [
    "plt.scatter(df[\"Location 1\"],df[\"Census Tract\"])\n",
    "plt.show()"
   ]
  },
  {
   "cell_type": "markdown",
   "metadata": {},
   "source": [
    "Above scatterplot shows the census in particular locations for particular cuisine.\n"
   ]
  },
  {
   "cell_type": "markdown",
   "metadata": {},
   "source": [
    "So we did an analysis of number of people having different cuisines and different subcuisines. Also it shows the number of people in pasrticulsar location. From the analysis we observe that maximum people prefer Fullserve cuisine and maximum people prefer mexican food. So if any businessman is planning to open a new restaurant in Times square then preferably it should pe mexican and should be full serve.\n",
    "\n"
   ]
  },
  {
   "cell_type": "code",
   "execution_count": null,
   "metadata": {},
   "outputs": [],
   "source": []
  }
 ],
 "metadata": {
  "kernelspec": {
   "display_name": "Python 3",
   "language": "python",
   "name": "python3"
  },
  "language_info": {
   "codemirror_mode": {
    "name": "ipython",
    "version": 3
   },
   "file_extension": ".py",
   "mimetype": "text/x-python",
   "name": "python",
   "nbconvert_exporter": "python",
   "pygments_lexer": "ipython3",
   "version": "3.6.5"
  }
 },
 "nbformat": 4,
 "nbformat_minor": 2
}
