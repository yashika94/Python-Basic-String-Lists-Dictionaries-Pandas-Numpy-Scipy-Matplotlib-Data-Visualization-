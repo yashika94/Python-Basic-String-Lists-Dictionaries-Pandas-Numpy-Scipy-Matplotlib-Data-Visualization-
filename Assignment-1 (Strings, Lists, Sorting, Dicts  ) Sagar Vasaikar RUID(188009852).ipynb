{
 "cells": [
  {
   "cell_type": "code",
   "execution_count": 2,
   "metadata": {},
   "outputs": [
    {
     "name": "stdout",
     "output_type": "stream",
     "text": [
      "Insert a string-\n",
      "Forgot to enter a string\n"
     ]
    }
   ],
   "source": [
    "a=input('Insert a string-')\n",
    "if len(a)>0:\n",
    "    print(a)\n",
    "else:\n",
    "    print(\"Forgot to enter a string\")\n",
    "\n",
    "# a is a variable that has a string. In this case user did not give any input so a message 'Forgot to enter a string' is printed."
   ]
  },
  {
   "cell_type": "code",
   "execution_count": 113,
   "metadata": {},
   "outputs": [
    {
     "name": "stdout",
     "output_type": "stream",
     "text": [
      "Insert a string-My name is Sagar Vasaikar. I am currently enrolled in Rutgers Business School.\n",
      "My name is Sagar Vasaikar. I am currently enrolled in Rutgers Business School.\n"
     ]
    }
   ],
   "source": [
    "a=input('Insert a string-')\n",
    "if len(a)>0:\n",
    "    print(a)\n",
    "else:\n",
    "    print(\"Forgot to enter a string\")"
   ]
  },
  {
   "cell_type": "code",
   "execution_count": 114,
   "metadata": {},
   "outputs": [
    {
     "name": "stdout",
     "output_type": "stream",
     "text": [
      "78\n"
     ]
    }
   ],
   "source": [
    "# Let us find out how many charachters are there in the string.\n",
    "print(len(a))"
   ]
  },
  {
   "cell_type": "code",
   "execution_count": 115,
   "metadata": {},
   "outputs": [
    {
     "data": {
      "text/plain": [
       "6"
      ]
     },
     "execution_count": 115,
     "metadata": {},
     "output_type": "execute_result"
    }
   ],
   "source": [
    "# let us find out the count of a particular alphabet 'r' in the string.\n",
    "a.count('r')"
   ]
  },
  {
   "cell_type": "code",
   "execution_count": 116,
   "metadata": {},
   "outputs": [
    {
     "name": "stdout",
     "output_type": "stream",
     "text": [
      "my name is sagar vasaikar. i am currently enrolled in rutgers business school.\n"
     ]
    }
   ],
   "source": [
    "# Let us convert the string into lower case\n",
    "print(a.lower())\n"
   ]
  },
  {
   "cell_type": "code",
   "execution_count": 117,
   "metadata": {},
   "outputs": [
    {
     "name": "stdout",
     "output_type": "stream",
     "text": [
      "MY NAME IS SAGAR VASAIKAR. I AM CURRENTLY ENROLLED IN RUTGERS BUSINESS SCHOOL.\n"
     ]
    }
   ],
   "source": [
    "# Let us convert the string into upper case\n",
    "print(a.upper())"
   ]
  },
  {
   "cell_type": "code",
   "execution_count": 119,
   "metadata": {},
   "outputs": [
    {
     "name": "stdout",
     "output_type": "stream",
     "text": [
      "My Name Is Sagar Vasaikar. I Am Currently Enrolled In Rutgers Business School.\n"
     ]
    }
   ],
   "source": [
    "# Let us convert the string into title  format.\n",
    "print(a.title())"
   ]
  },
  {
   "cell_type": "code",
   "execution_count": 120,
   "metadata": {},
   "outputs": [
    {
     "name": "stdout",
     "output_type": "stream",
     "text": [
      "0 M\n",
      "1 y\n",
      "2  \n",
      "3 n\n",
      "4 a\n",
      "5 m\n",
      "6 e\n",
      "7  \n",
      "8 i\n",
      "9 s\n",
      "10  \n",
      "11 S\n",
      "12 a\n",
      "13 g\n",
      "14 a\n",
      "15 r\n",
      "16  \n",
      "17 V\n",
      "18 a\n",
      "19 s\n",
      "20 a\n",
      "21 i\n",
      "22 k\n",
      "23 a\n",
      "24 r\n",
      "25 .\n",
      "26  \n",
      "27 I\n",
      "28  \n",
      "29 a\n",
      "30 m\n",
      "31  \n",
      "32 c\n",
      "33 u\n",
      "34 r\n",
      "35 r\n",
      "36 e\n",
      "37 n\n",
      "38 t\n",
      "39 l\n",
      "40 y\n",
      "41  \n",
      "42 e\n",
      "43 n\n",
      "44 r\n",
      "45 o\n",
      "46 l\n",
      "47 l\n",
      "48 e\n",
      "49 d\n",
      "50  \n",
      "51 i\n",
      "52 n\n",
      "53  \n",
      "54 R\n",
      "55 u\n",
      "56 t\n",
      "57 g\n",
      "58 e\n",
      "59 r\n",
      "60 s\n",
      "61  \n",
      "62 B\n",
      "63 u\n",
      "64 s\n",
      "65 i\n",
      "66 n\n",
      "67 e\n",
      "68 s\n",
      "69 s\n",
      "70  \n",
      "71 S\n",
      "72 c\n",
      "73 h\n",
      "74 o\n",
      "75 o\n",
      "76 l\n",
      "77 .\n"
     ]
    }
   ],
   "source": [
    "i=0\n",
    "for b in a:\n",
    "    print(i,b)\n",
    "    i=i+1\n",
    "    # We used iteration to find the index number for each charachters in the string."
   ]
  },
  {
   "cell_type": "code",
   "execution_count": 121,
   "metadata": {},
   "outputs": [
    {
     "name": "stdout",
     "output_type": "stream",
     "text": [
      "RBS\n"
     ]
    }
   ],
   "source": [
    "# Let us join R B S in the string.(concat)\n",
    "print ('R'+'B'+'S')"
   ]
  },
  {
   "cell_type": "code",
   "execution_count": 122,
   "metadata": {},
   "outputs": [
    {
     "name": "stdout",
     "output_type": "stream",
     "text": [
      "M\n"
     ]
    }
   ],
   "source": [
    "#Let us access first charachter in the string.\n",
    "print(a[0])"
   ]
  },
  {
   "cell_type": "code",
   "execution_count": 123,
   "metadata": {},
   "outputs": [
    {
     "name": "stdout",
     "output_type": "stream",
     "text": [
      ".\n"
     ]
    }
   ],
   "source": [
    "#Let us access last charachter in the string.\n",
    "print(a[-1]) "
   ]
  },
  {
   "cell_type": "code",
   "execution_count": 124,
   "metadata": {},
   "outputs": [
    {
     "name": "stdout",
     "output_type": "stream",
     "text": [
      "['My', 'name', 'is', 'Sagar', 'Vasaikar.', 'I', 'am', 'currently', 'enrolled', 'in', 'Rutgers', 'Business', 'School.']\n"
     ]
    }
   ],
   "source": [
    "# Let us split the given string into  a list.\n",
    "b=a.split(' ')\n",
    "print(b)\n"
   ]
  },
  {
   "cell_type": "code",
   "execution_count": 125,
   "metadata": {},
   "outputs": [
    {
     "name": "stdout",
     "output_type": "stream",
     "text": [
      "13\n"
     ]
    }
   ],
   "source": [
    "#Let us determine how many items are there in this list.\n",
    "print(len(b))"
   ]
  },
  {
   "cell_type": "code",
   "execution_count": 126,
   "metadata": {},
   "outputs": [
    {
     "name": "stdout",
     "output_type": "stream",
     "text": [
      "Sagar\n"
     ]
    }
   ],
   "source": [
    "#Let us access the items in the list. for now first name\n",
    "print(b[3])"
   ]
  },
  {
   "cell_type": "code",
   "execution_count": 127,
   "metadata": {},
   "outputs": [
    {
     "name": "stdout",
     "output_type": "stream",
     "text": [
      "['My', 'name', 'is', 'Saggy', 'Vasaikar.', 'I', 'am', 'currently', 'enrolled', 'in', 'Rutgers', 'Business', 'School.']\n"
     ]
    }
   ],
   "source": [
    "# Let us change the first name in the list\n",
    "b[3]='Saggy'\n",
    "print(b)"
   ]
  },
  {
   "cell_type": "code",
   "execution_count": 129,
   "metadata": {},
   "outputs": [
    {
     "name": "stdout",
     "output_type": "stream",
     "text": [
      "['My', 'name', 'is', 'Saggy', 'I', 'am', 'currently', 'enrolled', 'in', 'Rutgers', 'Business', 'School.']\n"
     ]
    }
   ],
   "source": [
    "#Let us delete the last name in the list.\n",
    "b.remove(\"Vasaikar.\")\n",
    "print(b)"
   ]
  },
  {
   "cell_type": "code",
   "execution_count": 130,
   "metadata": {},
   "outputs": [
    {
     "name": "stdout",
     "output_type": "stream",
     "text": [
      "['School.', 'Business', 'Rutgers', 'in', 'enrolled', 'currently', 'am', 'I', 'Saggy', 'is', 'name', 'My']\n"
     ]
    }
   ],
   "source": [
    "#Let us reverse the items in the list.\n",
    "b.reverse()\n",
    "print(b)\n"
   ]
  },
  {
   "cell_type": "code",
   "execution_count": 131,
   "metadata": {},
   "outputs": [
    {
     "name": "stdout",
     "output_type": "stream",
     "text": [
      "['School.', 'Business', 'Rutgers', 'in', 'enrolled', 'currently', 'am', 'I', 'Saggy', 'is', 'name']\n"
     ]
    }
   ],
   "source": [
    "#Let us pop the last item in the list\n",
    "b.pop()\n",
    "print(b)"
   ]
  },
  {
   "cell_type": "code",
   "execution_count": 170,
   "metadata": {},
   "outputs": [
    {
     "name": "stdout",
     "output_type": "stream",
     "text": [
      "['School.', 'Business', 'Rutgers', 'in', 'enrolled', 'currently', 'am', 'I', 'name', 'My']\n"
     ]
    }
   ],
   "source": [
    "#Let us add the poped item again in the list.\n",
    "b.insert(9,'My')\n",
    "print(b)\n"
   ]
  },
  {
   "cell_type": "code",
   "execution_count": 160,
   "metadata": {},
   "outputs": [
    {
     "name": "stdout",
     "output_type": "stream",
     "text": [
      "['Cat', 'Dog', 'Goat', 'Zebra']\n"
     ]
    }
   ],
   "source": [
    "#Let us take new example to understand sorting in list\n",
    "c=[\"Zebra\", \"Dog\", \"Goat\", \"Cat\"]\n",
    "c.sort()\n",
    "print(c)"
   ]
  },
  {
   "cell_type": "code",
   "execution_count": 137,
   "metadata": {},
   "outputs": [
    {
     "data": {
      "text/plain": [
       "['Cat', 'Dog', 'Goat', 'Zebra']"
      ]
     },
     "execution_count": 137,
     "metadata": {},
     "output_type": "execute_result"
    }
   ],
   "source": [
    "#Let us sort the list based on number of vowels in the word or animals.\n",
    "\n",
    "sorted(c,\n",
    "       key=lambda c: sum(ch in 'aeiou' for ch in c),\n",
    "       reverse=False)"
   ]
  },
  {
   "cell_type": "code",
   "execution_count": 180,
   "metadata": {},
   "outputs": [
    {
     "name": "stdout",
     "output_type": "stream",
     "text": [
      "{'name': 'Sagar', 'age': 23, 'gender': 'male', 'country': 'India'}\n"
     ]
    }
   ],
   "source": [
    "#Let us build a dict\n",
    "dict= {\n",
    " \"name\":\"Sagar\",\n",
    " \"age\" : 23,\n",
    " \"gender\":\"male\",\n",
    "\"country\" : \"India\"}\n",
    "print (dict)\n"
   ]
  },
  {
   "cell_type": "code",
   "execution_count": 139,
   "metadata": {},
   "outputs": [
    {
     "name": "stdout",
     "output_type": "stream",
     "text": [
      "male\n"
     ]
    }
   ],
   "source": [
    "#Let us access values from the dicts\n",
    "z = dict[\"gender\"]\n",
    "print(z)"
   ]
  },
  {
   "cell_type": "code",
   "execution_count": 181,
   "metadata": {},
   "outputs": [
    {
     "name": "stdout",
     "output_type": "stream",
     "text": [
      "{'name': 'Sagar', 'age': 24, 'gender': 'male', 'country': 'India'}\n"
     ]
    }
   ],
   "source": [
    "#Let us change the value of age in the dict\n",
    "dict[\"age\"]=24\n",
    "print(dict)"
   ]
  },
  {
   "cell_type": "code",
   "execution_count": 145,
   "metadata": {},
   "outputs": [
    {
     "name": "stdout",
     "output_type": "stream",
     "text": [
      "4\n"
     ]
    }
   ],
   "source": [
    "#Let us check the length of the dict\n",
    "print(len(dict))"
   ]
  },
  {
   "cell_type": "code",
   "execution_count": 182,
   "metadata": {},
   "outputs": [
    {
     "name": "stdout",
     "output_type": "stream",
     "text": [
      "{'name': 'Sagar', 'age': 24, 'country': 'India', 'phone no': 8622563189}\n"
     ]
    }
   ],
   "source": [
    "#Let us add and del the values in the dict\n",
    "dict[\"phone no\"] = 8622563189\n",
    "del dict[\"gender\"] \n",
    "print(dict)\n",
    "\n",
    "\n",
    "#CITATION\n",
    "#https://www.techbeamers.com\n",
    "#https://codeburst.io/python-basics\n",
    "#https://stackoverflow.com"
   ]
  },
  {
   "cell_type": "code",
   "execution_count": null,
   "metadata": {},
   "outputs": [],
   "source": []
  }
 ],
 "metadata": {
  "kernelspec": {
   "display_name": "Python 3",
   "language": "python",
   "name": "python3"
  },
  "language_info": {
   "codemirror_mode": {
    "name": "ipython",
    "version": 3
   },
   "file_extension": ".py",
   "mimetype": "text/x-python",
   "name": "python",
   "nbconvert_exporter": "python",
   "pygments_lexer": "ipython3",
   "version": "3.6.5"
  }
 },
 "nbformat": 4,
 "nbformat_minor": 2
}
