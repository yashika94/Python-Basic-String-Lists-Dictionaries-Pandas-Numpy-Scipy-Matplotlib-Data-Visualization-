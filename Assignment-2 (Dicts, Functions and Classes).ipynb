{
 "cells": [
  {
   "cell_type": "markdown",
   "metadata": {},
   "source": [
    "# Assignment 2 (Dicts, Functions and Classes)"
   ]
  },
  {
   "cell_type": "markdown",
   "metadata": {},
   "source": [
    "# Dictionaries\n",
    "\n",
    "A dictionary is a collection which is unordered, changeable and indexed. In Python dictionaries are written with curly brackets, and they have keys and values. A dictionary is a data type similar to arrays, but works with keys and values instead of indexes. Each value stored in a dictionary can be accessed using a key, which is any type of object (a string, a number, a list, etc.) instead of using its index to address it.\n"
   ]
  },
  {
   "cell_type": "code",
   "execution_count": 1,
   "metadata": {},
   "outputs": [
    {
     "name": "stdout",
     "output_type": "stream",
     "text": [
      "{'New Jersey': 'Trenton', 'New York': 'Albany', 'Texas': 'Austin', 'Colorado': 'Denver'}\n"
     ]
    }
   ],
   "source": [
    "#Let us create a dictionary \n",
    "#We will create a dictionary of some states and their capitals in USA.\n",
    "dict= {\n",
    "    'New Jersey':'Trenton',\n",
    "    'New York' : 'Albany',\n",
    "    'Texas': 'Austin',\n",
    "    'Colorado': 'Denver'\n",
    "}\n",
    "print(dict)"
   ]
  },
  {
   "cell_type": "code",
   "execution_count": 2,
   "metadata": {},
   "outputs": [
    {
     "name": "stdout",
     "output_type": "stream",
     "text": [
      "Austin\n"
     ]
    }
   ],
   "source": [
    "#Let us access the capital of Texas.\n",
    "x=dict['Texas']\n",
    "print(x)"
   ]
  },
  {
   "cell_type": "code",
   "execution_count": 3,
   "metadata": {},
   "outputs": [
    {
     "name": "stdout",
     "output_type": "stream",
     "text": [
      "{'New Jersey': 'Trenton', 'New York': 'Albany', 'Texas': 'Austin', 'Colorado': 'Boulder'}\n"
     ]
    }
   ],
   "source": [
    "#Let us now change the capital of Colorado using update().\n",
    "dict.update({\"Colorado\": \"Boulder\"})\n",
    "print(dict)"
   ]
  },
  {
   "cell_type": "code",
   "execution_count": 4,
   "metadata": {},
   "outputs": [
    {
     "name": "stdout",
     "output_type": "stream",
     "text": [
      "Trenton\n",
      "Albany\n",
      "Austin\n",
      "Boulder\n"
     ]
    }
   ],
   "source": [
    "#Let us now sort find the values in dictionary one by one using for().\n",
    "for x in dict:\n",
    "  print(dict[x])\n"
   ]
  },
  {
   "cell_type": "code",
   "execution_count": 5,
   "metadata": {},
   "outputs": [
    {
     "name": "stdout",
     "output_type": "stream",
     "text": [
      "Trenton\n",
      "Albany\n",
      "Austin\n",
      "Boulder\n"
     ]
    }
   ],
   "source": [
    "#We can also use items() and values()\n",
    "for x in dict.values():\n",
    "  print(x)"
   ]
  },
  {
   "cell_type": "code",
   "execution_count": 6,
   "metadata": {},
   "outputs": [
    {
     "name": "stdout",
     "output_type": "stream",
     "text": [
      "New Jersey Trenton\n",
      "New York Albany\n",
      "Texas Austin\n",
      "Colorado Boulder\n"
     ]
    }
   ],
   "source": [
    "for x, y in dict.items():\n",
    "  print(x, y)"
   ]
  },
  {
   "cell_type": "code",
   "execution_count": 7,
   "metadata": {},
   "outputs": [
    {
     "name": "stdout",
     "output_type": "stream",
     "text": [
      "{'New Jersey': 'Trenton', 'New York': 'Albany', 'Texas': 'Austin', 'Colorado': 'Boulder', 'Connecticut': 'Hartford', 'California': 'Sacramento'}\n"
     ]
    }
   ],
   "source": [
    "#Let us add new values in the dictionary.\n",
    "\n",
    "dict['Connecticut'] = 'Hartford'\n",
    "dict['California'] = 'Sacramento'\n",
    "print(dict)\n",
    "\n"
   ]
  },
  {
   "cell_type": "code",
   "execution_count": 8,
   "metadata": {},
   "outputs": [
    {
     "name": "stdout",
     "output_type": "stream",
     "text": [
      "{'New Jersey': 'Trenton', 'New York': 'Albany', 'Texas': 'Austin', 'Colorado': 'Boulder', 'California': 'Sacramento'}\n"
     ]
    }
   ],
   "source": [
    "#Let us now remove one value from the dictonary.\n",
    "del dict[\"Connecticut\"]\n",
    "print(dict)"
   ]
  },
  {
   "cell_type": "code",
   "execution_count": 9,
   "metadata": {},
   "outputs": [
    {
     "name": "stdout",
     "output_type": "stream",
     "text": [
      "5\n"
     ]
    }
   ],
   "source": [
    "#Let us find the length of the dictonary.\n",
    "print(len(dict))"
   ]
  },
  {
   "cell_type": "code",
   "execution_count": 10,
   "metadata": {},
   "outputs": [
    {
     "name": "stdout",
     "output_type": "stream",
     "text": [
      "{'New Jersey': 'Trenton', 'New York': 'Albany', 'Colorado': 'Boulder', 'California': 'Sacramento'}\n"
     ]
    }
   ],
   "source": [
    "#Let us use pop() to delete a particular value from dictionary\n",
    "dict.pop('Texas')\n",
    "print(dict)"
   ]
  },
  {
   "cell_type": "code",
   "execution_count": 11,
   "metadata": {},
   "outputs": [
    {
     "name": "stdout",
     "output_type": "stream",
     "text": [
      "{'New Jersey': 'Trenton', 'New York': 'Albany', 'Colorado': 'Boulder'}\n"
     ]
    }
   ],
   "source": [
    "#Let us use popitem() which removes the last item from the dictionary.\n",
    "dict.popitem()\n",
    "print(dict)"
   ]
  },
  {
   "cell_type": "markdown",
   "metadata": {},
   "source": [
    "# Functions\n",
    "\n",
    "A function is a block of code which only runs when it is called. You can pass data, known as parameters, into a function.\n",
    "A function can return data as a result. You use functions in programming to bundle a set of instructions that you want to use repeatedly or that, because of their complexity, are better self-contained in a sub-program and called when needed. That means that a function is a piece of code written to carry out a specified task. To carry out that specific task, the function might or might not need multiple inputs. When the task is carried out, the function can or can not return one or more values.\n",
    "\n",
    "There are three types of functions in Python:\n",
    "1)Built-in functions.\n",
    "2)User-Defined Functions\n",
    "3)Anonymous functions."
   ]
  },
  {
   "cell_type": "code",
   "execution_count": 12,
   "metadata": {},
   "outputs": [
    {
     "name": "stdout",
     "output_type": "stream",
     "text": [
      "States and Capitals of USA\n"
     ]
    }
   ],
   "source": [
    "#Let us create a User-defined function. To create User defined function we use \"def\" keyword. \n",
    "#To call the function we use the function anem followed by paranthesis.\n",
    "\n",
    "def first_func():\n",
    "  print(\"States and Capitals of USA\")\n",
    "first_func()"
   ]
  },
  {
   "cell_type": "code",
   "execution_count": 13,
   "metadata": {},
   "outputs": [
    {
     "name": "stdout",
     "output_type": "stream",
     "text": [
      "New Jersey Trenton USA \n",
      "New York Albany USA \n",
      "Texas Austin USA \n",
      "Colorado Denvear USA \n"
     ]
    }
   ],
   "source": [
    "#Let us now use parameter in the function. We can add as many parameter as we want, we just have to seperate them with commas.\n",
    "#We will use same example of States and their capitals and add 'USA' in the end.\n",
    "\n",
    "def states_cap(state,cap,):\n",
    "  print(state, cap + \" USA \")\n",
    "    \n",
    "states_cap('New Jersey','Trenton')\n",
    "states_cap('New York' , 'Albany')\n",
    "states_cap('Texas', 'Austin')\n",
    "states_cap('Colorado', 'Denvear')\n"
   ]
  },
  {
   "cell_type": "code",
   "execution_count": 14,
   "metadata": {},
   "outputs": [
    {
     "name": "stdout",
     "output_type": "stream",
     "text": [
      "New Jersey Trenton  USA \n",
      "New York Albany  USA \n",
      "Texas Austin  USA \n",
      "Colorado Denver  USA \n"
     ]
    }
   ],
   "source": [
    "#Let us see an example of default parameter. If we do not provide any value in the function it uses default parameter value.\n",
    "#We will set the default value of \"country\" as \"USA\"\n",
    "\n",
    "def states_cap(state,cap, country= \" USA \"):\n",
    "  print(state,cap,country)\n",
    "    \n",
    "states_cap('New Jersey','Trenton', ' USA ' )\n",
    "states_cap('New York' , 'Albany', ' USA ')\n",
    "states_cap('Texas', 'Austin')\n",
    "states_cap('Colorado', 'Denver') \n",
    "\n",
    "      \n"
   ]
  },
  {
   "cell_type": "code",
   "execution_count": 15,
   "metadata": {},
   "outputs": [
    {
     "name": "stdout",
     "output_type": "stream",
     "text": [
      "('New Jersey', 'Trenton USA ')\n",
      "('New York', 'Albany USA ')\n",
      "('Texas', 'Austin USA ')\n",
      "('Colorado', 'Denver USA ')\n"
     ]
    }
   ],
   "source": [
    "#Let us use return keyword for function to give a value.\n",
    "\n",
    "def states_cap(x,y):\n",
    "  return(x,y + \" USA \")\n",
    "\n",
    "print(states_cap('New Jersey','Trenton'))\n",
    "print(states_cap('New York' , 'Albany'))\n",
    "print(states_cap('Texas', 'Austin'))\n",
    "print(states_cap('Colorado', 'Denver')) \n",
    "      \n",
    "      \n",
    "      "
   ]
  },
  {
   "cell_type": "code",
   "execution_count": 16,
   "metadata": {},
   "outputs": [
    {
     "name": "stdout",
     "output_type": "stream",
     "text": [
      "Enter any number: 5\n",
      "5 is ODD\n"
     ]
    }
   ],
   "source": [
    "# Let us use if-else to determine the integer is odd even.\n",
    "def odd_even():\n",
    " input_num = int(input('Enter any number: '))\n",
    " if input_num % 2 == 0:\n",
    "    print(input_num, \"is EVEN\")\n",
    " else:\n",
    "    print(input_num, \"is ODD\")\n",
    "odd_even() "
   ]
  },
  {
   "cell_type": "code",
   "execution_count": 36,
   "metadata": {},
   "outputs": [
    {
     "name": "stdout",
     "output_type": "stream",
     "text": [
      "enter first number 5\n",
      "enter second number 2\n",
      "7\n",
      "3\n",
      "10\n",
      "2.5\n"
     ]
    }
   ],
   "source": [
    "# Let us add subtract multiply and divide two numbers and use functions.\n",
    "\n",
    "x=int(input(\"enter first number \"))\n",
    "y=int(input(\"enter second number \"))\n",
    "def add (x,y):\n",
    "    z=x+y\n",
    "    print(z)\n",
    "def sub(x,y):\n",
    "    z=x-y\n",
    "    print(z)\n",
    "def mul(x,y):\n",
    "    z=x*y\n",
    "    print(z)\n",
    "def div(x,y):\n",
    "    z=x/y\n",
    "    print(z)\n",
    "add(x,y)\n",
    "sub(x,y)\n",
    "mul(x,y)\n",
    "div(x,y)\n"
   ]
  },
  {
   "cell_type": "markdown",
   "metadata": {},
   "source": [
    "Python Lambda functions\n",
    "A lambda function is a small anonymous function.\n",
    "A lambda function can take any number of arguments, but can only have one expression."
   ]
  },
  {
   "cell_type": "code",
   "execution_count": 20,
   "metadata": {},
   "outputs": [
    {
     "name": "stdout",
     "output_type": "stream",
     "text": [
      "30\n"
     ]
    }
   ],
   "source": [
    "#Using lambda function to add number.\n",
    "\n",
    "x = lambda z: z + 10\n",
    "print(x(20))"
   ]
  },
  {
   "cell_type": "code",
   "execution_count": 22,
   "metadata": {
    "scrolled": true
   },
   "outputs": [
    {
     "name": "stdout",
     "output_type": "stream",
     "text": [
      "6\n"
     ]
    }
   ],
   "source": [
    "#We can use any number of arguments in lambda function.\n",
    "\n",
    "a = lambda x, y, z : x*y*z\n",
    "print(a(1, 2, 3))"
   ]
  },
  {
   "cell_type": "markdown",
   "metadata": {},
   "source": [
    "# Classes\n",
    "\n",
    "Python is an object oriented programming language. Almost everything in Python is an object, with its properties and methods.\n",
    "A Class is like an object constructor, or a \"blueprint\" for creating objects. Objects are an encapsulation of variables and functions into a single entity. Objects get their variables and functions from classes. Classes are essentially a template to create your objects.\n"
   ]
  },
  {
   "cell_type": "code",
   "execution_count": 3,
   "metadata": {},
   "outputs": [
    {
     "name": "stdout",
     "output_type": "stream",
     "text": [
      "<class '__main__.FirstClass'>\n"
     ]
    }
   ],
   "source": [
    "#Let us create a class using keyword 'class'\n",
    "class FirstClass:\n",
    "  x = 15\n",
    "\n",
    "print(FirstClass)\n"
   ]
  },
  {
   "cell_type": "code",
   "execution_count": 4,
   "metadata": {},
   "outputs": [
    {
     "name": "stdout",
     "output_type": "stream",
     "text": [
      "15\n"
     ]
    }
   ],
   "source": [
    "#Let us create an object\n",
    "\n",
    "a = FirstClass()\n",
    "print(a.x)"
   ]
  },
  {
   "cell_type": "code",
   "execution_count": 11,
   "metadata": {},
   "outputs": [
    {
     "name": "stdout",
     "output_type": "stream",
     "text": [
      "New Jersey\n",
      "Trenton\n",
      "New York\n",
      "Albany\n",
      "Texas\n",
      "Austin\n"
     ]
    }
   ],
   "source": [
    "#The __init__() Function\n",
    "#The examples above are classes and objects in their simplest form, and are not really useful in real life applications.\n",
    "#To understand the meaning of classes we have to understand the built-in __init__() function.\n",
    "#All classes have a function called __init__(), which is always executed when the class is being initiated.\n",
    "#Use the __init__() function to assign values to object properties, \n",
    "#or other operations that are necessary to do when the object is being created.\n",
    "\n",
    "class states_capital:\n",
    " def __init__(a,state,capital):\n",
    "    a.state = state\n",
    "    a.capital = capital\n",
    "\n",
    "s1= states_capital(\"New Jersey\", \"Trenton\")\n",
    "s2= states_capital(\"New York\", \"Albany\")\n",
    "s3= states_capital (\"Texas\", \"Austin\")\n",
    "\n",
    "print(s1.state)\n",
    "print(s1.capital)\n",
    "\n",
    "print(s2.state)\n",
    "print(s2.capital)\n",
    "\n",
    "print(s3.state)\n",
    "print(s3.capital)\n"
   ]
  },
  {
   "cell_type": "code",
   "execution_count": 31,
   "metadata": {},
   "outputs": [
    {
     "name": "stdout",
     "output_type": "stream",
     "text": [
      "Rutgers University is in New Jersey whose capital is Trenton\n"
     ]
    }
   ],
   "source": [
    "#Let us create method in states_capital class\n",
    "\n",
    "class states_capital:\n",
    " def __init__(a,state,capital):\n",
    "    a.state = state\n",
    "    a.capital = capital\n",
    "\n",
    " def func(a):\n",
    "    print(\"Rutgers University is in \"+ a.state + \" whose capital is \" + a.capital)\n",
    "\n",
    "s1= states_capital(\"New Jersey\", \"Trenton\")\n",
    "s1.func()\n"
   ]
  },
  {
   "cell_type": "code",
   "execution_count": 42,
   "metadata": {},
   "outputs": [
    {
     "name": "stdout",
     "output_type": "stream",
     "text": [
      "New Jersey\n",
      "Jersey City\n"
     ]
    }
   ],
   "source": [
    "#Let us now change the capital of New Jersey to Jersey City.\n",
    "class states_capital:\n",
    " def __init__(a,state,capital):\n",
    "    a.state = state\n",
    "    a.capital = capital\n",
    "\n",
    "\n",
    "\n",
    "s1= states_capital(\"New Jersey\", \"Trenton\" )\n",
    "s1.capital=\"Jersey City\"\n",
    "print(s1.state)\n",
    "print(s1.capital)\n"
   ]
  },
  {
   "cell_type": "markdown",
   "metadata": {},
   "source": [
    "# Citations\n",
    "www.w3schools.com \n",
    "www.learnpython.org\n",
    "www.codeshareonline.com\n",
    "\n"
   ]
  }
 ],
 "metadata": {
  "kernelspec": {
   "display_name": "Python 3",
   "language": "python",
   "name": "python3"
  },
  "language_info": {
   "codemirror_mode": {
    "name": "ipython",
    "version": 3
   },
   "file_extension": ".py",
   "mimetype": "text/x-python",
   "name": "python",
   "nbconvert_exporter": "python",
   "pygments_lexer": "ipython3",
   "version": "3.6.5"
  }
 },
 "nbformat": 4,
 "nbformat_minor": 2
}
